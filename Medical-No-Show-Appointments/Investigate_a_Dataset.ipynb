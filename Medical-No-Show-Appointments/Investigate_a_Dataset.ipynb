{
 "cells": [
  {
   "cell_type": "markdown",
   "id": "0d7f15f9",
   "metadata": {},
   "source": [
    "# Project: No-show- Appointments\n",
    "<br>  \n",
    "<div>\n",
    "<img src=\"https://s3.amazonaws.com/cms.ipressroom.com/296/files/20208/5f6397462cfac24d7eaf6945_GettyImages-698153858/GettyImages-698153858_25e461d3-fdf1-4f39-ad96-74e4969115c6-prv.jpg\" width=\"400\"/>   \n",
    "</div>"
   ]
  },
  {
   "cell_type": "markdown",
   "id": "78fb1a1d",
   "metadata": {},
   "source": [
    "\n",
    "#  I. Introduction \n",
    "## Dataset Overview\n",
    "\n",
    "\n",
    "\n",
    "This dataset collects information from 100k medical appointments in Brazil and is focused on the question of whether or not patients show up for their appointment.\n",
    "\n",
    "Some of the features included in this dataset:\n",
    "+ `ScheduledDay` indicates the day someone called or registered the appointment.\n",
    "+ `AppointmentDay` indicates the day of the appointment, when the patient have to visit the doctor.\n",
    "+ `Neighbourhood` indicates the location of the hospital, where the appointment takes place.\n",
    "+ `Scholarship` indicates whether or not the patient is enrolled in Brasilian welfare program, Bolsa Família.\n",
    "+ `SMS_received` 1 or more messages sent to the patient.\n",
    "+ `No-show` has Yes and No values, `Yes` if the patient did not show up, and `No` if the patient showed up to the appointment.\n",
    "\n",
    "\\\n",
    "The original dataset is from [kaggle's](https://www.kaggle.com/joniarroba/noshowappointments)"
   ]
  },
  {
   "cell_type": "markdown",
   "id": "b60d75ab",
   "metadata": {},
   "source": [
    " ## Outlines\n",
    "\n",
    "The rest of this report will focus on applying the data analysis process on the dataset under investigation. The data analysis process consists of five main steps as follows:\n",
    "1. **Questions:** Defining questions based on the dataset to direct the analysis\n",
    "2. **Wrangle:** Assessing the data to define the problems, then cleaning the dataset\n",
    "3. **Explore:** Finding patterns and relationships in the data\n",
    "4. **Draw Conclusions:** With descriptive statistics and visualizations\n",
    "5. **Communicate:** Which is reporting the findings in this Jupyter notebook\n"
   ]
  },
  {
   "cell_type": "markdown",
   "id": "3e47e661",
   "metadata": {},
   "source": [
    "# II. Data Analysis Process"
   ]
  },
  {
   "cell_type": "markdown",
   "id": "4a8ff6db",
   "metadata": {},
   "source": [
    "# 1. Questions\n",
    "\n",
    "+ **Q1:** Are women more likely to show up than men?\n",
    "+ **Q2:** What `Age` group has the highest `No-show` percentage? (e.g. cut 100 years into 4 quarters!)\n",
    "+ **Q3:** Which features have a direct correlation with the `No-show`?\n",
    "+ **Q4:** Out of the group of patients who recieved an sms, what is the percentage of the `No-show`?\n",
    "+ **Q5:** Is the period between the `ScheduledDay` and the `AppointmentDay` affect the `No-show`? Find a number to describe that...\n",
    "+ **Q6:** Which `Neighbourhood` has the higest `No-show` and which has the lowest?"
   ]
  },
  {
   "cell_type": "code",
   "execution_count": 1,
   "id": "373a6f3a",
   "metadata": {
    "scrolled": true
   },
   "outputs": [
    {
     "data": {
      "text/html": [
       "<div>\n",
       "<style scoped>\n",
       "    .dataframe tbody tr th:only-of-type {\n",
       "        vertical-align: middle;\n",
       "    }\n",
       "\n",
       "    .dataframe tbody tr th {\n",
       "        vertical-align: top;\n",
       "    }\n",
       "\n",
       "    .dataframe thead th {\n",
       "        text-align: right;\n",
       "    }\n",
       "</style>\n",
       "<table border=\"1\" class=\"dataframe\">\n",
       "  <thead>\n",
       "    <tr style=\"text-align: right;\">\n",
       "      <th></th>\n",
       "      <th>PatientId</th>\n",
       "      <th>AppointmentID</th>\n",
       "      <th>Gender</th>\n",
       "      <th>ScheduledDay</th>\n",
       "      <th>AppointmentDay</th>\n",
       "      <th>Age</th>\n",
       "      <th>Neighbourhood</th>\n",
       "      <th>Scholarship</th>\n",
       "      <th>Hipertension</th>\n",
       "      <th>Diabetes</th>\n",
       "      <th>Alcoholism</th>\n",
       "      <th>Handcap</th>\n",
       "      <th>SMS_received</th>\n",
       "      <th>No-show</th>\n",
       "    </tr>\n",
       "  </thead>\n",
       "  <tbody>\n",
       "    <tr>\n",
       "      <th>0</th>\n",
       "      <td>2.987250e+13</td>\n",
       "      <td>5642903</td>\n",
       "      <td>F</td>\n",
       "      <td>2016-04-29T18:38:08Z</td>\n",
       "      <td>2016-04-29T00:00:00Z</td>\n",
       "      <td>62</td>\n",
       "      <td>JARDIM DA PENHA</td>\n",
       "      <td>0</td>\n",
       "      <td>1</td>\n",
       "      <td>0</td>\n",
       "      <td>0</td>\n",
       "      <td>0</td>\n",
       "      <td>0</td>\n",
       "      <td>No</td>\n",
       "    </tr>\n",
       "    <tr>\n",
       "      <th>1</th>\n",
       "      <td>5.589978e+14</td>\n",
       "      <td>5642503</td>\n",
       "      <td>M</td>\n",
       "      <td>2016-04-29T16:08:27Z</td>\n",
       "      <td>2016-04-29T00:00:00Z</td>\n",
       "      <td>56</td>\n",
       "      <td>JARDIM DA PENHA</td>\n",
       "      <td>0</td>\n",
       "      <td>0</td>\n",
       "      <td>0</td>\n",
       "      <td>0</td>\n",
       "      <td>0</td>\n",
       "      <td>0</td>\n",
       "      <td>No</td>\n",
       "    </tr>\n",
       "    <tr>\n",
       "      <th>2</th>\n",
       "      <td>4.262962e+12</td>\n",
       "      <td>5642549</td>\n",
       "      <td>F</td>\n",
       "      <td>2016-04-29T16:19:04Z</td>\n",
       "      <td>2016-04-29T00:00:00Z</td>\n",
       "      <td>62</td>\n",
       "      <td>MATA DA PRAIA</td>\n",
       "      <td>0</td>\n",
       "      <td>0</td>\n",
       "      <td>0</td>\n",
       "      <td>0</td>\n",
       "      <td>0</td>\n",
       "      <td>0</td>\n",
       "      <td>No</td>\n",
       "    </tr>\n",
       "    <tr>\n",
       "      <th>3</th>\n",
       "      <td>8.679512e+11</td>\n",
       "      <td>5642828</td>\n",
       "      <td>F</td>\n",
       "      <td>2016-04-29T17:29:31Z</td>\n",
       "      <td>2016-04-29T00:00:00Z</td>\n",
       "      <td>8</td>\n",
       "      <td>PONTAL DE CAMBURI</td>\n",
       "      <td>0</td>\n",
       "      <td>0</td>\n",
       "      <td>0</td>\n",
       "      <td>0</td>\n",
       "      <td>0</td>\n",
       "      <td>0</td>\n",
       "      <td>No</td>\n",
       "    </tr>\n",
       "    <tr>\n",
       "      <th>4</th>\n",
       "      <td>8.841186e+12</td>\n",
       "      <td>5642494</td>\n",
       "      <td>F</td>\n",
       "      <td>2016-04-29T16:07:23Z</td>\n",
       "      <td>2016-04-29T00:00:00Z</td>\n",
       "      <td>56</td>\n",
       "      <td>JARDIM DA PENHA</td>\n",
       "      <td>0</td>\n",
       "      <td>1</td>\n",
       "      <td>1</td>\n",
       "      <td>0</td>\n",
       "      <td>0</td>\n",
       "      <td>0</td>\n",
       "      <td>No</td>\n",
       "    </tr>\n",
       "    <tr>\n",
       "      <th>5</th>\n",
       "      <td>9.598513e+13</td>\n",
       "      <td>5626772</td>\n",
       "      <td>F</td>\n",
       "      <td>2016-04-27T08:36:51Z</td>\n",
       "      <td>2016-04-29T00:00:00Z</td>\n",
       "      <td>76</td>\n",
       "      <td>REPÚBLICA</td>\n",
       "      <td>0</td>\n",
       "      <td>1</td>\n",
       "      <td>0</td>\n",
       "      <td>0</td>\n",
       "      <td>0</td>\n",
       "      <td>0</td>\n",
       "      <td>No</td>\n",
       "    </tr>\n",
       "    <tr>\n",
       "      <th>6</th>\n",
       "      <td>7.336882e+14</td>\n",
       "      <td>5630279</td>\n",
       "      <td>F</td>\n",
       "      <td>2016-04-27T15:05:12Z</td>\n",
       "      <td>2016-04-29T00:00:00Z</td>\n",
       "      <td>23</td>\n",
       "      <td>GOIABEIRAS</td>\n",
       "      <td>0</td>\n",
       "      <td>0</td>\n",
       "      <td>0</td>\n",
       "      <td>0</td>\n",
       "      <td>0</td>\n",
       "      <td>0</td>\n",
       "      <td>Yes</td>\n",
       "    </tr>\n",
       "    <tr>\n",
       "      <th>7</th>\n",
       "      <td>3.449833e+12</td>\n",
       "      <td>5630575</td>\n",
       "      <td>F</td>\n",
       "      <td>2016-04-27T15:39:58Z</td>\n",
       "      <td>2016-04-29T00:00:00Z</td>\n",
       "      <td>39</td>\n",
       "      <td>GOIABEIRAS</td>\n",
       "      <td>0</td>\n",
       "      <td>0</td>\n",
       "      <td>0</td>\n",
       "      <td>0</td>\n",
       "      <td>0</td>\n",
       "      <td>0</td>\n",
       "      <td>Yes</td>\n",
       "    </tr>\n",
       "    <tr>\n",
       "      <th>8</th>\n",
       "      <td>5.639473e+13</td>\n",
       "      <td>5638447</td>\n",
       "      <td>F</td>\n",
       "      <td>2016-04-29T08:02:16Z</td>\n",
       "      <td>2016-04-29T00:00:00Z</td>\n",
       "      <td>21</td>\n",
       "      <td>ANDORINHAS</td>\n",
       "      <td>0</td>\n",
       "      <td>0</td>\n",
       "      <td>0</td>\n",
       "      <td>0</td>\n",
       "      <td>0</td>\n",
       "      <td>0</td>\n",
       "      <td>No</td>\n",
       "    </tr>\n",
       "    <tr>\n",
       "      <th>9</th>\n",
       "      <td>7.812456e+13</td>\n",
       "      <td>5629123</td>\n",
       "      <td>F</td>\n",
       "      <td>2016-04-27T12:48:25Z</td>\n",
       "      <td>2016-04-29T00:00:00Z</td>\n",
       "      <td>19</td>\n",
       "      <td>CONQUISTA</td>\n",
       "      <td>0</td>\n",
       "      <td>0</td>\n",
       "      <td>0</td>\n",
       "      <td>0</td>\n",
       "      <td>0</td>\n",
       "      <td>0</td>\n",
       "      <td>No</td>\n",
       "    </tr>\n",
       "  </tbody>\n",
       "</table>\n",
       "</div>"
      ],
      "text/plain": [
       "      PatientId  AppointmentID Gender          ScheduledDay  \\\n",
       "0  2.987250e+13        5642903      F  2016-04-29T18:38:08Z   \n",
       "1  5.589978e+14        5642503      M  2016-04-29T16:08:27Z   \n",
       "2  4.262962e+12        5642549      F  2016-04-29T16:19:04Z   \n",
       "3  8.679512e+11        5642828      F  2016-04-29T17:29:31Z   \n",
       "4  8.841186e+12        5642494      F  2016-04-29T16:07:23Z   \n",
       "5  9.598513e+13        5626772      F  2016-04-27T08:36:51Z   \n",
       "6  7.336882e+14        5630279      F  2016-04-27T15:05:12Z   \n",
       "7  3.449833e+12        5630575      F  2016-04-27T15:39:58Z   \n",
       "8  5.639473e+13        5638447      F  2016-04-29T08:02:16Z   \n",
       "9  7.812456e+13        5629123      F  2016-04-27T12:48:25Z   \n",
       "\n",
       "         AppointmentDay  Age      Neighbourhood  Scholarship  Hipertension  \\\n",
       "0  2016-04-29T00:00:00Z   62    JARDIM DA PENHA            0             1   \n",
       "1  2016-04-29T00:00:00Z   56    JARDIM DA PENHA            0             0   \n",
       "2  2016-04-29T00:00:00Z   62      MATA DA PRAIA            0             0   \n",
       "3  2016-04-29T00:00:00Z    8  PONTAL DE CAMBURI            0             0   \n",
       "4  2016-04-29T00:00:00Z   56    JARDIM DA PENHA            0             1   \n",
       "5  2016-04-29T00:00:00Z   76          REPÚBLICA            0             1   \n",
       "6  2016-04-29T00:00:00Z   23         GOIABEIRAS            0             0   \n",
       "7  2016-04-29T00:00:00Z   39         GOIABEIRAS            0             0   \n",
       "8  2016-04-29T00:00:00Z   21         ANDORINHAS            0             0   \n",
       "9  2016-04-29T00:00:00Z   19          CONQUISTA            0             0   \n",
       "\n",
       "   Diabetes  Alcoholism  Handcap  SMS_received No-show  \n",
       "0         0           0        0             0      No  \n",
       "1         0           0        0             0      No  \n",
       "2         0           0        0             0      No  \n",
       "3         0           0        0             0      No  \n",
       "4         1           0        0             0      No  \n",
       "5         0           0        0             0      No  \n",
       "6         0           0        0             0     Yes  \n",
       "7         0           0        0             0     Yes  \n",
       "8         0           0        0             0      No  \n",
       "9         0           0        0             0      No  "
      ]
     },
     "execution_count": 1,
     "metadata": {},
     "output_type": "execute_result"
    }
   ],
   "source": [
    "# import libraries and load datasets\n",
    "\n",
    "import pandas as pd\n",
    "import numpy as np\n",
    "import matplotlib.pyplot as plt\n",
    "import seaborn as sns\n",
    "%matplotlib inline\n",
    "\n",
    "# load dataset\n",
    "df = pd.read_csv(\"noshowappointments-kagglev2-may-2016.csv\")\n",
    "df.head(10)"
   ]
  },
  {
   "cell_type": "markdown",
   "id": "9a8c261e",
   "metadata": {},
   "source": [
    "# 2. Wrangle\n",
    "## a. Assessing"
   ]
  },
  {
   "cell_type": "code",
   "execution_count": 2,
   "id": "790cf2bd",
   "metadata": {
    "scrolled": false
   },
   "outputs": [
    {
     "name": "stdout",
     "output_type": "stream",
     "text": [
      "<class 'pandas.core.frame.DataFrame'>\n",
      "RangeIndex: 110527 entries, 0 to 110526\n",
      "Data columns (total 14 columns):\n",
      " #   Column          Non-Null Count   Dtype  \n",
      "---  ------          --------------   -----  \n",
      " 0   PatientId       110527 non-null  float64\n",
      " 1   AppointmentID   110527 non-null  int64  \n",
      " 2   Gender          110527 non-null  object \n",
      " 3   ScheduledDay    110527 non-null  object \n",
      " 4   AppointmentDay  110527 non-null  object \n",
      " 5   Age             110527 non-null  int64  \n",
      " 6   Neighbourhood   110527 non-null  object \n",
      " 7   Scholarship     110527 non-null  int64  \n",
      " 8   Hipertension    110527 non-null  int64  \n",
      " 9   Diabetes        110527 non-null  int64  \n",
      " 10  Alcoholism      110527 non-null  int64  \n",
      " 11  Handcap         110527 non-null  int64  \n",
      " 12  SMS_received    110527 non-null  int64  \n",
      " 13  No-show         110527 non-null  object \n",
      "dtypes: float64(1), int64(8), object(5)\n",
      "memory usage: 11.8+ MB\n"
     ]
    }
   ],
   "source": [
    "# check the dtypes, shape, number of nulls of the dataset\n",
    "df.info()"
   ]
  },
  {
   "cell_type": "code",
   "execution_count": 3,
   "id": "56f2defb",
   "metadata": {},
   "outputs": [
    {
     "data": {
      "text/html": [
       "<div>\n",
       "<style scoped>\n",
       "    .dataframe tbody tr th:only-of-type {\n",
       "        vertical-align: middle;\n",
       "    }\n",
       "\n",
       "    .dataframe tbody tr th {\n",
       "        vertical-align: top;\n",
       "    }\n",
       "\n",
       "    .dataframe thead th {\n",
       "        text-align: right;\n",
       "    }\n",
       "</style>\n",
       "<table border=\"1\" class=\"dataframe\">\n",
       "  <thead>\n",
       "    <tr style=\"text-align: right;\">\n",
       "      <th></th>\n",
       "      <th>PatientId</th>\n",
       "      <th>AppointmentID</th>\n",
       "      <th>Age</th>\n",
       "      <th>Scholarship</th>\n",
       "      <th>Hipertension</th>\n",
       "      <th>Diabetes</th>\n",
       "      <th>Alcoholism</th>\n",
       "      <th>Handcap</th>\n",
       "      <th>SMS_received</th>\n",
       "    </tr>\n",
       "  </thead>\n",
       "  <tbody>\n",
       "    <tr>\n",
       "      <th>count</th>\n",
       "      <td>1.105270e+05</td>\n",
       "      <td>1.105270e+05</td>\n",
       "      <td>110527.000000</td>\n",
       "      <td>110527.000000</td>\n",
       "      <td>110527.000000</td>\n",
       "      <td>110527.000000</td>\n",
       "      <td>110527.000000</td>\n",
       "      <td>110527.000000</td>\n",
       "      <td>110527.000000</td>\n",
       "    </tr>\n",
       "    <tr>\n",
       "      <th>mean</th>\n",
       "      <td>1.474963e+14</td>\n",
       "      <td>5.675305e+06</td>\n",
       "      <td>37.088874</td>\n",
       "      <td>0.098266</td>\n",
       "      <td>0.197246</td>\n",
       "      <td>0.071865</td>\n",
       "      <td>0.030400</td>\n",
       "      <td>0.022248</td>\n",
       "      <td>0.321026</td>\n",
       "    </tr>\n",
       "    <tr>\n",
       "      <th>std</th>\n",
       "      <td>2.560949e+14</td>\n",
       "      <td>7.129575e+04</td>\n",
       "      <td>23.110205</td>\n",
       "      <td>0.297675</td>\n",
       "      <td>0.397921</td>\n",
       "      <td>0.258265</td>\n",
       "      <td>0.171686</td>\n",
       "      <td>0.161543</td>\n",
       "      <td>0.466873</td>\n",
       "    </tr>\n",
       "    <tr>\n",
       "      <th>min</th>\n",
       "      <td>3.921784e+04</td>\n",
       "      <td>5.030230e+06</td>\n",
       "      <td>-1.000000</td>\n",
       "      <td>0.000000</td>\n",
       "      <td>0.000000</td>\n",
       "      <td>0.000000</td>\n",
       "      <td>0.000000</td>\n",
       "      <td>0.000000</td>\n",
       "      <td>0.000000</td>\n",
       "    </tr>\n",
       "    <tr>\n",
       "      <th>25%</th>\n",
       "      <td>4.172614e+12</td>\n",
       "      <td>5.640286e+06</td>\n",
       "      <td>18.000000</td>\n",
       "      <td>0.000000</td>\n",
       "      <td>0.000000</td>\n",
       "      <td>0.000000</td>\n",
       "      <td>0.000000</td>\n",
       "      <td>0.000000</td>\n",
       "      <td>0.000000</td>\n",
       "    </tr>\n",
       "    <tr>\n",
       "      <th>50%</th>\n",
       "      <td>3.173184e+13</td>\n",
       "      <td>5.680573e+06</td>\n",
       "      <td>37.000000</td>\n",
       "      <td>0.000000</td>\n",
       "      <td>0.000000</td>\n",
       "      <td>0.000000</td>\n",
       "      <td>0.000000</td>\n",
       "      <td>0.000000</td>\n",
       "      <td>0.000000</td>\n",
       "    </tr>\n",
       "    <tr>\n",
       "      <th>75%</th>\n",
       "      <td>9.439172e+13</td>\n",
       "      <td>5.725524e+06</td>\n",
       "      <td>55.000000</td>\n",
       "      <td>0.000000</td>\n",
       "      <td>0.000000</td>\n",
       "      <td>0.000000</td>\n",
       "      <td>0.000000</td>\n",
       "      <td>0.000000</td>\n",
       "      <td>1.000000</td>\n",
       "    </tr>\n",
       "    <tr>\n",
       "      <th>max</th>\n",
       "      <td>9.999816e+14</td>\n",
       "      <td>5.790484e+06</td>\n",
       "      <td>115.000000</td>\n",
       "      <td>1.000000</td>\n",
       "      <td>1.000000</td>\n",
       "      <td>1.000000</td>\n",
       "      <td>1.000000</td>\n",
       "      <td>4.000000</td>\n",
       "      <td>1.000000</td>\n",
       "    </tr>\n",
       "  </tbody>\n",
       "</table>\n",
       "</div>"
      ],
      "text/plain": [
       "          PatientId  AppointmentID            Age    Scholarship  \\\n",
       "count  1.105270e+05   1.105270e+05  110527.000000  110527.000000   \n",
       "mean   1.474963e+14   5.675305e+06      37.088874       0.098266   \n",
       "std    2.560949e+14   7.129575e+04      23.110205       0.297675   \n",
       "min    3.921784e+04   5.030230e+06      -1.000000       0.000000   \n",
       "25%    4.172614e+12   5.640286e+06      18.000000       0.000000   \n",
       "50%    3.173184e+13   5.680573e+06      37.000000       0.000000   \n",
       "75%    9.439172e+13   5.725524e+06      55.000000       0.000000   \n",
       "max    9.999816e+14   5.790484e+06     115.000000       1.000000   \n",
       "\n",
       "        Hipertension       Diabetes     Alcoholism        Handcap  \\\n",
       "count  110527.000000  110527.000000  110527.000000  110527.000000   \n",
       "mean        0.197246       0.071865       0.030400       0.022248   \n",
       "std         0.397921       0.258265       0.171686       0.161543   \n",
       "min         0.000000       0.000000       0.000000       0.000000   \n",
       "25%         0.000000       0.000000       0.000000       0.000000   \n",
       "50%         0.000000       0.000000       0.000000       0.000000   \n",
       "75%         0.000000       0.000000       0.000000       0.000000   \n",
       "max         1.000000       1.000000       1.000000       4.000000   \n",
       "\n",
       "        SMS_received  \n",
       "count  110527.000000  \n",
       "mean        0.321026  \n",
       "std         0.466873  \n",
       "min         0.000000  \n",
       "25%         0.000000  \n",
       "50%         0.000000  \n",
       "75%         1.000000  \n",
       "max         1.000000  "
      ]
     },
     "execution_count": 3,
     "metadata": {},
     "output_type": "execute_result"
    }
   ],
   "source": [
    "# quick statistical summary about the dataset\n",
    "df.describe()"
   ]
  },
  {
   "cell_type": "code",
   "execution_count": 4,
   "id": "1e17a17a",
   "metadata": {},
   "outputs": [
    {
     "data": {
      "text/plain": [
       "0"
      ]
     },
     "execution_count": 4,
     "metadata": {},
     "output_type": "execute_result"
    }
   ],
   "source": [
    "# check if there are any duplicated rows\n",
    "df.duplicated().sum()"
   ]
  },
  {
   "cell_type": "markdown",
   "id": "37699feb",
   "metadata": {},
   "source": [
    "### Assessing Conclusion: \n",
    "+ There are no features have nulls\n",
    "+ There are no duplicated rows\n",
    "+ `PatientId` and `AppointmentID` columns are irrelevant to to the investigation. They are just like the index of the dataset. So they will be dropped from the dataframe.\n",
    "+ Column names are in the uppercase form, we need to change it to the lowercase, and add underscore before the second capital letter in the same column name. e.g. rename `ScheduledDay` to `scheduled_day`  \n",
    "+ `No-show` change column name to `No_show`\n",
    "+ `ScheduledDay` and `AppointmentDay` columns data types need to be changed to `datetime` \n",
    "+ `ScheduledDay` and `AppointmentDay`columns have T and Z before and after the time, we need to define if it is going to raise an issue and how to handle it. \n"
   ]
  },
  {
   "cell_type": "markdown",
   "id": "bbf7d496",
   "metadata": {},
   "source": [
    "## b. Cleaning"
   ]
  },
  {
   "cell_type": "markdown",
   "id": "e9ad918d",
   "metadata": {},
   "source": [
    "+ drop `PatientId` and `AppointmentID` columns"
   ]
  },
  {
   "cell_type": "code",
   "execution_count": 5,
   "id": "e2afadb6",
   "metadata": {},
   "outputs": [
    {
     "data": {
      "text/html": [
       "<div>\n",
       "<style scoped>\n",
       "    .dataframe tbody tr th:only-of-type {\n",
       "        vertical-align: middle;\n",
       "    }\n",
       "\n",
       "    .dataframe tbody tr th {\n",
       "        vertical-align: top;\n",
       "    }\n",
       "\n",
       "    .dataframe thead th {\n",
       "        text-align: right;\n",
       "    }\n",
       "</style>\n",
       "<table border=\"1\" class=\"dataframe\">\n",
       "  <thead>\n",
       "    <tr style=\"text-align: right;\">\n",
       "      <th></th>\n",
       "      <th>Gender</th>\n",
       "      <th>ScheduledDay</th>\n",
       "      <th>AppointmentDay</th>\n",
       "      <th>Age</th>\n",
       "      <th>Neighbourhood</th>\n",
       "      <th>Scholarship</th>\n",
       "      <th>Hipertension</th>\n",
       "      <th>Diabetes</th>\n",
       "      <th>Alcoholism</th>\n",
       "      <th>Handcap</th>\n",
       "      <th>SMS_received</th>\n",
       "      <th>No-show</th>\n",
       "    </tr>\n",
       "  </thead>\n",
       "  <tbody>\n",
       "    <tr>\n",
       "      <th>0</th>\n",
       "      <td>F</td>\n",
       "      <td>2016-04-29T18:38:08Z</td>\n",
       "      <td>2016-04-29T00:00:00Z</td>\n",
       "      <td>62</td>\n",
       "      <td>JARDIM DA PENHA</td>\n",
       "      <td>0</td>\n",
       "      <td>1</td>\n",
       "      <td>0</td>\n",
       "      <td>0</td>\n",
       "      <td>0</td>\n",
       "      <td>0</td>\n",
       "      <td>No</td>\n",
       "    </tr>\n",
       "    <tr>\n",
       "      <th>1</th>\n",
       "      <td>M</td>\n",
       "      <td>2016-04-29T16:08:27Z</td>\n",
       "      <td>2016-04-29T00:00:00Z</td>\n",
       "      <td>56</td>\n",
       "      <td>JARDIM DA PENHA</td>\n",
       "      <td>0</td>\n",
       "      <td>0</td>\n",
       "      <td>0</td>\n",
       "      <td>0</td>\n",
       "      <td>0</td>\n",
       "      <td>0</td>\n",
       "      <td>No</td>\n",
       "    </tr>\n",
       "    <tr>\n",
       "      <th>2</th>\n",
       "      <td>F</td>\n",
       "      <td>2016-04-29T16:19:04Z</td>\n",
       "      <td>2016-04-29T00:00:00Z</td>\n",
       "      <td>62</td>\n",
       "      <td>MATA DA PRAIA</td>\n",
       "      <td>0</td>\n",
       "      <td>0</td>\n",
       "      <td>0</td>\n",
       "      <td>0</td>\n",
       "      <td>0</td>\n",
       "      <td>0</td>\n",
       "      <td>No</td>\n",
       "    </tr>\n",
       "    <tr>\n",
       "      <th>3</th>\n",
       "      <td>F</td>\n",
       "      <td>2016-04-29T17:29:31Z</td>\n",
       "      <td>2016-04-29T00:00:00Z</td>\n",
       "      <td>8</td>\n",
       "      <td>PONTAL DE CAMBURI</td>\n",
       "      <td>0</td>\n",
       "      <td>0</td>\n",
       "      <td>0</td>\n",
       "      <td>0</td>\n",
       "      <td>0</td>\n",
       "      <td>0</td>\n",
       "      <td>No</td>\n",
       "    </tr>\n",
       "    <tr>\n",
       "      <th>4</th>\n",
       "      <td>F</td>\n",
       "      <td>2016-04-29T16:07:23Z</td>\n",
       "      <td>2016-04-29T00:00:00Z</td>\n",
       "      <td>56</td>\n",
       "      <td>JARDIM DA PENHA</td>\n",
       "      <td>0</td>\n",
       "      <td>1</td>\n",
       "      <td>1</td>\n",
       "      <td>0</td>\n",
       "      <td>0</td>\n",
       "      <td>0</td>\n",
       "      <td>No</td>\n",
       "    </tr>\n",
       "  </tbody>\n",
       "</table>\n",
       "</div>"
      ],
      "text/plain": [
       "  Gender          ScheduledDay        AppointmentDay  Age      Neighbourhood  \\\n",
       "0      F  2016-04-29T18:38:08Z  2016-04-29T00:00:00Z   62    JARDIM DA PENHA   \n",
       "1      M  2016-04-29T16:08:27Z  2016-04-29T00:00:00Z   56    JARDIM DA PENHA   \n",
       "2      F  2016-04-29T16:19:04Z  2016-04-29T00:00:00Z   62      MATA DA PRAIA   \n",
       "3      F  2016-04-29T17:29:31Z  2016-04-29T00:00:00Z    8  PONTAL DE CAMBURI   \n",
       "4      F  2016-04-29T16:07:23Z  2016-04-29T00:00:00Z   56    JARDIM DA PENHA   \n",
       "\n",
       "   Scholarship  Hipertension  Diabetes  Alcoholism  Handcap  SMS_received  \\\n",
       "0            0             1         0           0        0             0   \n",
       "1            0             0         0           0        0             0   \n",
       "2            0             0         0           0        0             0   \n",
       "3            0             0         0           0        0             0   \n",
       "4            0             1         1           0        0             0   \n",
       "\n",
       "  No-show  \n",
       "0      No  \n",
       "1      No  \n",
       "2      No  \n",
       "3      No  \n",
       "4      No  "
      ]
     },
     "execution_count": 5,
     "metadata": {},
     "output_type": "execute_result"
    }
   ],
   "source": [
    "df.drop(columns=[\"PatientId\", \"AppointmentID\"], inplace=True)\n",
    "# check to confirm last step\n",
    "df.head()"
   ]
  },
  {
   "cell_type": "markdown",
   "id": "998b4dbf",
   "metadata": {},
   "source": [
    "+ Separate any two word column name such as \"ScheduledDay\" by an underscore \n",
    "+ Change column names to lower case "
   ]
  },
  {
   "cell_type": "code",
   "execution_count": 6,
   "id": "e9038816",
   "metadata": {},
   "outputs": [
    {
     "data": {
      "text/html": [
       "<div>\n",
       "<style scoped>\n",
       "    .dataframe tbody tr th:only-of-type {\n",
       "        vertical-align: middle;\n",
       "    }\n",
       "\n",
       "    .dataframe tbody tr th {\n",
       "        vertical-align: top;\n",
       "    }\n",
       "\n",
       "    .dataframe thead th {\n",
       "        text-align: right;\n",
       "    }\n",
       "</style>\n",
       "<table border=\"1\" class=\"dataframe\">\n",
       "  <thead>\n",
       "    <tr style=\"text-align: right;\">\n",
       "      <th></th>\n",
       "      <th>gender</th>\n",
       "      <th>scheduled_day</th>\n",
       "      <th>appointment_day</th>\n",
       "      <th>age</th>\n",
       "      <th>neighbourhood</th>\n",
       "      <th>scholarship</th>\n",
       "      <th>hipertension</th>\n",
       "      <th>diabetes</th>\n",
       "      <th>alcoholism</th>\n",
       "      <th>handcap</th>\n",
       "      <th>s_m_s_received</th>\n",
       "      <th>no-show</th>\n",
       "    </tr>\n",
       "  </thead>\n",
       "  <tbody>\n",
       "    <tr>\n",
       "      <th>0</th>\n",
       "      <td>F</td>\n",
       "      <td>2016-04-29T18:38:08Z</td>\n",
       "      <td>2016-04-29T00:00:00Z</td>\n",
       "      <td>62</td>\n",
       "      <td>JARDIM DA PENHA</td>\n",
       "      <td>0</td>\n",
       "      <td>1</td>\n",
       "      <td>0</td>\n",
       "      <td>0</td>\n",
       "      <td>0</td>\n",
       "      <td>0</td>\n",
       "      <td>No</td>\n",
       "    </tr>\n",
       "    <tr>\n",
       "      <th>1</th>\n",
       "      <td>M</td>\n",
       "      <td>2016-04-29T16:08:27Z</td>\n",
       "      <td>2016-04-29T00:00:00Z</td>\n",
       "      <td>56</td>\n",
       "      <td>JARDIM DA PENHA</td>\n",
       "      <td>0</td>\n",
       "      <td>0</td>\n",
       "      <td>0</td>\n",
       "      <td>0</td>\n",
       "      <td>0</td>\n",
       "      <td>0</td>\n",
       "      <td>No</td>\n",
       "    </tr>\n",
       "    <tr>\n",
       "      <th>2</th>\n",
       "      <td>F</td>\n",
       "      <td>2016-04-29T16:19:04Z</td>\n",
       "      <td>2016-04-29T00:00:00Z</td>\n",
       "      <td>62</td>\n",
       "      <td>MATA DA PRAIA</td>\n",
       "      <td>0</td>\n",
       "      <td>0</td>\n",
       "      <td>0</td>\n",
       "      <td>0</td>\n",
       "      <td>0</td>\n",
       "      <td>0</td>\n",
       "      <td>No</td>\n",
       "    </tr>\n",
       "    <tr>\n",
       "      <th>3</th>\n",
       "      <td>F</td>\n",
       "      <td>2016-04-29T17:29:31Z</td>\n",
       "      <td>2016-04-29T00:00:00Z</td>\n",
       "      <td>8</td>\n",
       "      <td>PONTAL DE CAMBURI</td>\n",
       "      <td>0</td>\n",
       "      <td>0</td>\n",
       "      <td>0</td>\n",
       "      <td>0</td>\n",
       "      <td>0</td>\n",
       "      <td>0</td>\n",
       "      <td>No</td>\n",
       "    </tr>\n",
       "    <tr>\n",
       "      <th>4</th>\n",
       "      <td>F</td>\n",
       "      <td>2016-04-29T16:07:23Z</td>\n",
       "      <td>2016-04-29T00:00:00Z</td>\n",
       "      <td>56</td>\n",
       "      <td>JARDIM DA PENHA</td>\n",
       "      <td>0</td>\n",
       "      <td>1</td>\n",
       "      <td>1</td>\n",
       "      <td>0</td>\n",
       "      <td>0</td>\n",
       "      <td>0</td>\n",
       "      <td>No</td>\n",
       "    </tr>\n",
       "  </tbody>\n",
       "</table>\n",
       "</div>"
      ],
      "text/plain": [
       "  gender         scheduled_day       appointment_day  age      neighbourhood  \\\n",
       "0      F  2016-04-29T18:38:08Z  2016-04-29T00:00:00Z   62    JARDIM DA PENHA   \n",
       "1      M  2016-04-29T16:08:27Z  2016-04-29T00:00:00Z   56    JARDIM DA PENHA   \n",
       "2      F  2016-04-29T16:19:04Z  2016-04-29T00:00:00Z   62      MATA DA PRAIA   \n",
       "3      F  2016-04-29T17:29:31Z  2016-04-29T00:00:00Z    8  PONTAL DE CAMBURI   \n",
       "4      F  2016-04-29T16:07:23Z  2016-04-29T00:00:00Z   56    JARDIM DA PENHA   \n",
       "\n",
       "   scholarship  hipertension  diabetes  alcoholism  handcap  s_m_s_received  \\\n",
       "0            0             1         0           0        0               0   \n",
       "1            0             0         0           0        0               0   \n",
       "2            0             0         0           0        0               0   \n",
       "3            0             0         0           0        0               0   \n",
       "4            0             1         1           0        0               0   \n",
       "\n",
       "  no-show  \n",
       "0      No  \n",
       "1      No  \n",
       "2      No  \n",
       "3      No  \n",
       "4      No  "
      ]
     },
     "execution_count": 6,
     "metadata": {},
     "output_type": "execute_result"
    }
   ],
   "source": [
    "# separate any two word column name such as \"ScheduledDay\" by underscore \"_\"\n",
    "import re\n",
    "\n",
    "df.columns = [\"_\".join(re.findall('[A-Z][^A-Z]*', cname)) \n",
    "              for cname in df.columns]\n",
    "\n",
    "# change column names to lowercase\n",
    "df.columns = df.columns.str.lower()\n",
    "\n",
    "# check to confirm last step \n",
    "df.head()"
   ]
  },
  {
   "cell_type": "markdown",
   "id": "0266ad2b",
   "metadata": {},
   "source": [
    "Now, `s_m_s_received` column name has multiple underscores and is not comprehensible."
   ]
  },
  {
   "cell_type": "code",
   "execution_count": 7,
   "id": "7b4c6898",
   "metadata": {},
   "outputs": [
    {
     "data": {
      "text/html": [
       "<div>\n",
       "<style scoped>\n",
       "    .dataframe tbody tr th:only-of-type {\n",
       "        vertical-align: middle;\n",
       "    }\n",
       "\n",
       "    .dataframe tbody tr th {\n",
       "        vertical-align: top;\n",
       "    }\n",
       "\n",
       "    .dataframe thead th {\n",
       "        text-align: right;\n",
       "    }\n",
       "</style>\n",
       "<table border=\"1\" class=\"dataframe\">\n",
       "  <thead>\n",
       "    <tr style=\"text-align: right;\">\n",
       "      <th></th>\n",
       "      <th>gender</th>\n",
       "      <th>scheduled_day</th>\n",
       "      <th>appointment_day</th>\n",
       "      <th>age</th>\n",
       "      <th>neighbourhood</th>\n",
       "      <th>scholarship</th>\n",
       "      <th>hipertension</th>\n",
       "      <th>diabetes</th>\n",
       "      <th>alcoholism</th>\n",
       "      <th>handcap</th>\n",
       "      <th>sms_received</th>\n",
       "      <th>no-show</th>\n",
       "    </tr>\n",
       "  </thead>\n",
       "  <tbody>\n",
       "    <tr>\n",
       "      <th>0</th>\n",
       "      <td>F</td>\n",
       "      <td>2016-04-29T18:38:08Z</td>\n",
       "      <td>2016-04-29T00:00:00Z</td>\n",
       "      <td>62</td>\n",
       "      <td>JARDIM DA PENHA</td>\n",
       "      <td>0</td>\n",
       "      <td>1</td>\n",
       "      <td>0</td>\n",
       "      <td>0</td>\n",
       "      <td>0</td>\n",
       "      <td>0</td>\n",
       "      <td>No</td>\n",
       "    </tr>\n",
       "    <tr>\n",
       "      <th>1</th>\n",
       "      <td>M</td>\n",
       "      <td>2016-04-29T16:08:27Z</td>\n",
       "      <td>2016-04-29T00:00:00Z</td>\n",
       "      <td>56</td>\n",
       "      <td>JARDIM DA PENHA</td>\n",
       "      <td>0</td>\n",
       "      <td>0</td>\n",
       "      <td>0</td>\n",
       "      <td>0</td>\n",
       "      <td>0</td>\n",
       "      <td>0</td>\n",
       "      <td>No</td>\n",
       "    </tr>\n",
       "    <tr>\n",
       "      <th>2</th>\n",
       "      <td>F</td>\n",
       "      <td>2016-04-29T16:19:04Z</td>\n",
       "      <td>2016-04-29T00:00:00Z</td>\n",
       "      <td>62</td>\n",
       "      <td>MATA DA PRAIA</td>\n",
       "      <td>0</td>\n",
       "      <td>0</td>\n",
       "      <td>0</td>\n",
       "      <td>0</td>\n",
       "      <td>0</td>\n",
       "      <td>0</td>\n",
       "      <td>No</td>\n",
       "    </tr>\n",
       "    <tr>\n",
       "      <th>3</th>\n",
       "      <td>F</td>\n",
       "      <td>2016-04-29T17:29:31Z</td>\n",
       "      <td>2016-04-29T00:00:00Z</td>\n",
       "      <td>8</td>\n",
       "      <td>PONTAL DE CAMBURI</td>\n",
       "      <td>0</td>\n",
       "      <td>0</td>\n",
       "      <td>0</td>\n",
       "      <td>0</td>\n",
       "      <td>0</td>\n",
       "      <td>0</td>\n",
       "      <td>No</td>\n",
       "    </tr>\n",
       "    <tr>\n",
       "      <th>4</th>\n",
       "      <td>F</td>\n",
       "      <td>2016-04-29T16:07:23Z</td>\n",
       "      <td>2016-04-29T00:00:00Z</td>\n",
       "      <td>56</td>\n",
       "      <td>JARDIM DA PENHA</td>\n",
       "      <td>0</td>\n",
       "      <td>1</td>\n",
       "      <td>1</td>\n",
       "      <td>0</td>\n",
       "      <td>0</td>\n",
       "      <td>0</td>\n",
       "      <td>No</td>\n",
       "    </tr>\n",
       "  </tbody>\n",
       "</table>\n",
       "</div>"
      ],
      "text/plain": [
       "  gender         scheduled_day       appointment_day  age      neighbourhood  \\\n",
       "0      F  2016-04-29T18:38:08Z  2016-04-29T00:00:00Z   62    JARDIM DA PENHA   \n",
       "1      M  2016-04-29T16:08:27Z  2016-04-29T00:00:00Z   56    JARDIM DA PENHA   \n",
       "2      F  2016-04-29T16:19:04Z  2016-04-29T00:00:00Z   62      MATA DA PRAIA   \n",
       "3      F  2016-04-29T17:29:31Z  2016-04-29T00:00:00Z    8  PONTAL DE CAMBURI   \n",
       "4      F  2016-04-29T16:07:23Z  2016-04-29T00:00:00Z   56    JARDIM DA PENHA   \n",
       "\n",
       "   scholarship  hipertension  diabetes  alcoholism  handcap  sms_received  \\\n",
       "0            0             1         0           0        0             0   \n",
       "1            0             0         0           0        0             0   \n",
       "2            0             0         0           0        0             0   \n",
       "3            0             0         0           0        0             0   \n",
       "4            0             1         1           0        0             0   \n",
       "\n",
       "  no-show  \n",
       "0      No  \n",
       "1      No  \n",
       "2      No  \n",
       "3      No  \n",
       "4      No  "
      ]
     },
     "execution_count": 7,
     "metadata": {},
     "output_type": "execute_result"
    }
   ],
   "source": [
    "df.rename(columns={\"s_m_s_received\": \"sms_received\"}, inplace=True)\n",
    "# check to confirm last step \n",
    "df.head()"
   ]
  },
  {
   "cell_type": "markdown",
   "id": "41df6112",
   "metadata": {},
   "source": [
    "+ Rename `No-show` column to `no_show`"
   ]
  },
  {
   "cell_type": "code",
   "execution_count": 8,
   "id": "c262faf7",
   "metadata": {},
   "outputs": [
    {
     "data": {
      "text/html": [
       "<div>\n",
       "<style scoped>\n",
       "    .dataframe tbody tr th:only-of-type {\n",
       "        vertical-align: middle;\n",
       "    }\n",
       "\n",
       "    .dataframe tbody tr th {\n",
       "        vertical-align: top;\n",
       "    }\n",
       "\n",
       "    .dataframe thead th {\n",
       "        text-align: right;\n",
       "    }\n",
       "</style>\n",
       "<table border=\"1\" class=\"dataframe\">\n",
       "  <thead>\n",
       "    <tr style=\"text-align: right;\">\n",
       "      <th></th>\n",
       "      <th>gender</th>\n",
       "      <th>scheduled_day</th>\n",
       "      <th>appointment_day</th>\n",
       "      <th>age</th>\n",
       "      <th>neighbourhood</th>\n",
       "      <th>scholarship</th>\n",
       "      <th>hipertension</th>\n",
       "      <th>diabetes</th>\n",
       "      <th>alcoholism</th>\n",
       "      <th>handcap</th>\n",
       "      <th>sms_received</th>\n",
       "      <th>no_show</th>\n",
       "    </tr>\n",
       "  </thead>\n",
       "  <tbody>\n",
       "    <tr>\n",
       "      <th>0</th>\n",
       "      <td>F</td>\n",
       "      <td>2016-04-29T18:38:08Z</td>\n",
       "      <td>2016-04-29T00:00:00Z</td>\n",
       "      <td>62</td>\n",
       "      <td>JARDIM DA PENHA</td>\n",
       "      <td>0</td>\n",
       "      <td>1</td>\n",
       "      <td>0</td>\n",
       "      <td>0</td>\n",
       "      <td>0</td>\n",
       "      <td>0</td>\n",
       "      <td>No</td>\n",
       "    </tr>\n",
       "    <tr>\n",
       "      <th>1</th>\n",
       "      <td>M</td>\n",
       "      <td>2016-04-29T16:08:27Z</td>\n",
       "      <td>2016-04-29T00:00:00Z</td>\n",
       "      <td>56</td>\n",
       "      <td>JARDIM DA PENHA</td>\n",
       "      <td>0</td>\n",
       "      <td>0</td>\n",
       "      <td>0</td>\n",
       "      <td>0</td>\n",
       "      <td>0</td>\n",
       "      <td>0</td>\n",
       "      <td>No</td>\n",
       "    </tr>\n",
       "    <tr>\n",
       "      <th>2</th>\n",
       "      <td>F</td>\n",
       "      <td>2016-04-29T16:19:04Z</td>\n",
       "      <td>2016-04-29T00:00:00Z</td>\n",
       "      <td>62</td>\n",
       "      <td>MATA DA PRAIA</td>\n",
       "      <td>0</td>\n",
       "      <td>0</td>\n",
       "      <td>0</td>\n",
       "      <td>0</td>\n",
       "      <td>0</td>\n",
       "      <td>0</td>\n",
       "      <td>No</td>\n",
       "    </tr>\n",
       "    <tr>\n",
       "      <th>3</th>\n",
       "      <td>F</td>\n",
       "      <td>2016-04-29T17:29:31Z</td>\n",
       "      <td>2016-04-29T00:00:00Z</td>\n",
       "      <td>8</td>\n",
       "      <td>PONTAL DE CAMBURI</td>\n",
       "      <td>0</td>\n",
       "      <td>0</td>\n",
       "      <td>0</td>\n",
       "      <td>0</td>\n",
       "      <td>0</td>\n",
       "      <td>0</td>\n",
       "      <td>No</td>\n",
       "    </tr>\n",
       "    <tr>\n",
       "      <th>4</th>\n",
       "      <td>F</td>\n",
       "      <td>2016-04-29T16:07:23Z</td>\n",
       "      <td>2016-04-29T00:00:00Z</td>\n",
       "      <td>56</td>\n",
       "      <td>JARDIM DA PENHA</td>\n",
       "      <td>0</td>\n",
       "      <td>1</td>\n",
       "      <td>1</td>\n",
       "      <td>0</td>\n",
       "      <td>0</td>\n",
       "      <td>0</td>\n",
       "      <td>No</td>\n",
       "    </tr>\n",
       "  </tbody>\n",
       "</table>\n",
       "</div>"
      ],
      "text/plain": [
       "  gender         scheduled_day       appointment_day  age      neighbourhood  \\\n",
       "0      F  2016-04-29T18:38:08Z  2016-04-29T00:00:00Z   62    JARDIM DA PENHA   \n",
       "1      M  2016-04-29T16:08:27Z  2016-04-29T00:00:00Z   56    JARDIM DA PENHA   \n",
       "2      F  2016-04-29T16:19:04Z  2016-04-29T00:00:00Z   62      MATA DA PRAIA   \n",
       "3      F  2016-04-29T17:29:31Z  2016-04-29T00:00:00Z    8  PONTAL DE CAMBURI   \n",
       "4      F  2016-04-29T16:07:23Z  2016-04-29T00:00:00Z   56    JARDIM DA PENHA   \n",
       "\n",
       "   scholarship  hipertension  diabetes  alcoholism  handcap  sms_received  \\\n",
       "0            0             1         0           0        0             0   \n",
       "1            0             0         0           0        0             0   \n",
       "2            0             0         0           0        0             0   \n",
       "3            0             0         0           0        0             0   \n",
       "4            0             1         1           0        0             0   \n",
       "\n",
       "  no_show  \n",
       "0      No  \n",
       "1      No  \n",
       "2      No  \n",
       "3      No  \n",
       "4      No  "
      ]
     },
     "execution_count": 8,
     "metadata": {},
     "output_type": "execute_result"
    }
   ],
   "source": [
    "df.rename(columns={\"no-show\": \"no_show\"}, inplace=True)\n",
    "\n",
    "# check to confirm last step \n",
    "df.head()"
   ]
  },
  {
   "cell_type": "markdown",
   "id": "8f25ba25",
   "metadata": {},
   "source": [
    "+ Change `scheduled_day` and `appointment_day` dtypes to `datetime` "
   ]
  },
  {
   "cell_type": "code",
   "execution_count": 9,
   "id": "cbd3a0c6",
   "metadata": {},
   "outputs": [],
   "source": [
    "df[\"scheduled_day\"] = pd.to_datetime(df[\"scheduled_day\"])\n",
    "df[\"appointment_day\"] = pd.to_datetime(df[\"appointment_day\"])"
   ]
  },
  {
   "cell_type": "code",
   "execution_count": 10,
   "id": "e2b16828",
   "metadata": {},
   "outputs": [
    {
     "name": "stdout",
     "output_type": "stream",
     "text": [
      "<class 'pandas.core.frame.DataFrame'>\n",
      "RangeIndex: 110527 entries, 0 to 110526\n",
      "Data columns (total 12 columns):\n",
      " #   Column           Non-Null Count   Dtype              \n",
      "---  ------           --------------   -----              \n",
      " 0   gender           110527 non-null  object             \n",
      " 1   scheduled_day    110527 non-null  datetime64[ns, UTC]\n",
      " 2   appointment_day  110527 non-null  datetime64[ns, UTC]\n",
      " 3   age              110527 non-null  int64              \n",
      " 4   neighbourhood    110527 non-null  object             \n",
      " 5   scholarship      110527 non-null  int64              \n",
      " 6   hipertension     110527 non-null  int64              \n",
      " 7   diabetes         110527 non-null  int64              \n",
      " 8   alcoholism       110527 non-null  int64              \n",
      " 9   handcap          110527 non-null  int64              \n",
      " 10  sms_received     110527 non-null  int64              \n",
      " 11  no_show          110527 non-null  object             \n",
      "dtypes: datetime64[ns, UTC](2), int64(7), object(3)\n",
      "memory usage: 10.1+ MB\n"
     ]
    }
   ],
   "source": [
    "# check to confirm last step \n",
    "df.info()"
   ]
  },
  {
   "cell_type": "markdown",
   "id": "052e9a89",
   "metadata": {},
   "source": [
    "### Cleaning Step after Exploring\n",
    "\n",
    "After exploring I found it hard to work/visualize with `gender` and `no_show` columns as they are categorical variables. Since each one of them has only `2` unique values. I will apply ordinal encoding on them.   "
   ]
  },
  {
   "cell_type": "code",
   "execution_count": 11,
   "id": "8a018f79",
   "metadata": {},
   "outputs": [
    {
     "data": {
      "text/plain": [
       "array(['F', 'M'], dtype=object)"
      ]
     },
     "execution_count": 11,
     "metadata": {},
     "output_type": "execute_result"
    }
   ],
   "source": [
    "df.gender.unique()"
   ]
  },
  {
   "cell_type": "code",
   "execution_count": 12,
   "id": "2e379ba2",
   "metadata": {},
   "outputs": [
    {
     "data": {
      "text/plain": [
       "array(['No', 'Yes'], dtype=object)"
      ]
     },
     "execution_count": 12,
     "metadata": {},
     "output_type": "execute_result"
    }
   ],
   "source": [
    "df.no_show.unique()"
   ]
  },
  {
   "cell_type": "code",
   "execution_count": 13,
   "id": "e7efbb30",
   "metadata": {
    "scrolled": true
   },
   "outputs": [
    {
     "data": {
      "text/html": [
       "<div>\n",
       "<style scoped>\n",
       "    .dataframe tbody tr th:only-of-type {\n",
       "        vertical-align: middle;\n",
       "    }\n",
       "\n",
       "    .dataframe tbody tr th {\n",
       "        vertical-align: top;\n",
       "    }\n",
       "\n",
       "    .dataframe thead th {\n",
       "        text-align: right;\n",
       "    }\n",
       "</style>\n",
       "<table border=\"1\" class=\"dataframe\">\n",
       "  <thead>\n",
       "    <tr style=\"text-align: right;\">\n",
       "      <th></th>\n",
       "      <th>gender</th>\n",
       "      <th>scheduled_day</th>\n",
       "      <th>appointment_day</th>\n",
       "      <th>age</th>\n",
       "      <th>neighbourhood</th>\n",
       "      <th>scholarship</th>\n",
       "      <th>hipertension</th>\n",
       "      <th>diabetes</th>\n",
       "      <th>alcoholism</th>\n",
       "      <th>handcap</th>\n",
       "      <th>sms_received</th>\n",
       "      <th>no_show</th>\n",
       "      <th>gender_ordinal</th>\n",
       "      <th>no_show_ordinal</th>\n",
       "    </tr>\n",
       "  </thead>\n",
       "  <tbody>\n",
       "    <tr>\n",
       "      <th>0</th>\n",
       "      <td>F</td>\n",
       "      <td>2016-04-29 18:38:08+00:00</td>\n",
       "      <td>2016-04-29 00:00:00+00:00</td>\n",
       "      <td>62</td>\n",
       "      <td>JARDIM DA PENHA</td>\n",
       "      <td>0</td>\n",
       "      <td>1</td>\n",
       "      <td>0</td>\n",
       "      <td>0</td>\n",
       "      <td>0</td>\n",
       "      <td>0</td>\n",
       "      <td>No</td>\n",
       "      <td>0</td>\n",
       "      <td>0</td>\n",
       "    </tr>\n",
       "    <tr>\n",
       "      <th>1</th>\n",
       "      <td>M</td>\n",
       "      <td>2016-04-29 16:08:27+00:00</td>\n",
       "      <td>2016-04-29 00:00:00+00:00</td>\n",
       "      <td>56</td>\n",
       "      <td>JARDIM DA PENHA</td>\n",
       "      <td>0</td>\n",
       "      <td>0</td>\n",
       "      <td>0</td>\n",
       "      <td>0</td>\n",
       "      <td>0</td>\n",
       "      <td>0</td>\n",
       "      <td>No</td>\n",
       "      <td>1</td>\n",
       "      <td>0</td>\n",
       "    </tr>\n",
       "    <tr>\n",
       "      <th>2</th>\n",
       "      <td>F</td>\n",
       "      <td>2016-04-29 16:19:04+00:00</td>\n",
       "      <td>2016-04-29 00:00:00+00:00</td>\n",
       "      <td>62</td>\n",
       "      <td>MATA DA PRAIA</td>\n",
       "      <td>0</td>\n",
       "      <td>0</td>\n",
       "      <td>0</td>\n",
       "      <td>0</td>\n",
       "      <td>0</td>\n",
       "      <td>0</td>\n",
       "      <td>No</td>\n",
       "      <td>0</td>\n",
       "      <td>0</td>\n",
       "    </tr>\n",
       "    <tr>\n",
       "      <th>3</th>\n",
       "      <td>F</td>\n",
       "      <td>2016-04-29 17:29:31+00:00</td>\n",
       "      <td>2016-04-29 00:00:00+00:00</td>\n",
       "      <td>8</td>\n",
       "      <td>PONTAL DE CAMBURI</td>\n",
       "      <td>0</td>\n",
       "      <td>0</td>\n",
       "      <td>0</td>\n",
       "      <td>0</td>\n",
       "      <td>0</td>\n",
       "      <td>0</td>\n",
       "      <td>No</td>\n",
       "      <td>0</td>\n",
       "      <td>0</td>\n",
       "    </tr>\n",
       "    <tr>\n",
       "      <th>4</th>\n",
       "      <td>F</td>\n",
       "      <td>2016-04-29 16:07:23+00:00</td>\n",
       "      <td>2016-04-29 00:00:00+00:00</td>\n",
       "      <td>56</td>\n",
       "      <td>JARDIM DA PENHA</td>\n",
       "      <td>0</td>\n",
       "      <td>1</td>\n",
       "      <td>1</td>\n",
       "      <td>0</td>\n",
       "      <td>0</td>\n",
       "      <td>0</td>\n",
       "      <td>No</td>\n",
       "      <td>0</td>\n",
       "      <td>0</td>\n",
       "    </tr>\n",
       "  </tbody>\n",
       "</table>\n",
       "</div>"
      ],
      "text/plain": [
       "  gender             scheduled_day           appointment_day  age  \\\n",
       "0      F 2016-04-29 18:38:08+00:00 2016-04-29 00:00:00+00:00   62   \n",
       "1      M 2016-04-29 16:08:27+00:00 2016-04-29 00:00:00+00:00   56   \n",
       "2      F 2016-04-29 16:19:04+00:00 2016-04-29 00:00:00+00:00   62   \n",
       "3      F 2016-04-29 17:29:31+00:00 2016-04-29 00:00:00+00:00    8   \n",
       "4      F 2016-04-29 16:07:23+00:00 2016-04-29 00:00:00+00:00   56   \n",
       "\n",
       "       neighbourhood  scholarship  hipertension  diabetes  alcoholism  \\\n",
       "0    JARDIM DA PENHA            0             1         0           0   \n",
       "1    JARDIM DA PENHA            0             0         0           0   \n",
       "2      MATA DA PRAIA            0             0         0           0   \n",
       "3  PONTAL DE CAMBURI            0             0         0           0   \n",
       "4    JARDIM DA PENHA            0             1         1           0   \n",
       "\n",
       "   handcap  sms_received no_show  gender_ordinal  no_show_ordinal  \n",
       "0        0             0      No               0                0  \n",
       "1        0             0      No               1                0  \n",
       "2        0             0      No               0                0  \n",
       "3        0             0      No               0                0  \n",
       "4        0             0      No               0                0  "
      ]
     },
     "execution_count": 13,
     "metadata": {},
     "output_type": "execute_result"
    }
   ],
   "source": [
    "# for the gender column, creat a new column to hold the new ordinal variable\n",
    "# while keeping the old categorical varible\n",
    "\n",
    "gender_mapper = {\"M\":1, \"F\":0,}\n",
    "df[\"gender_ordinal\"] = df[\"gender\"].replace(gender_mapper)\n",
    "\n",
    "\n",
    "# for the no_show column\n",
    "no_show_mapper = {\"Yes\":1, \"No\":0,}\n",
    "df[\"no_show_ordinal\"] = df[\"no_show\"].replace(no_show_mapper)\n",
    "\n",
    "df.head()"
   ]
  },
  {
   "cell_type": "code",
   "execution_count": 14,
   "id": "dc117c0b",
   "metadata": {},
   "outputs": [
    {
     "data": {
      "text/html": [
       "<div>\n",
       "<style scoped>\n",
       "    .dataframe tbody tr th:only-of-type {\n",
       "        vertical-align: middle;\n",
       "    }\n",
       "\n",
       "    .dataframe tbody tr th {\n",
       "        vertical-align: top;\n",
       "    }\n",
       "\n",
       "    .dataframe thead th {\n",
       "        text-align: right;\n",
       "    }\n",
       "</style>\n",
       "<table border=\"1\" class=\"dataframe\">\n",
       "  <thead>\n",
       "    <tr style=\"text-align: right;\">\n",
       "      <th></th>\n",
       "      <th>age</th>\n",
       "      <th>scholarship</th>\n",
       "      <th>hipertension</th>\n",
       "      <th>diabetes</th>\n",
       "      <th>alcoholism</th>\n",
       "      <th>handcap</th>\n",
       "      <th>sms_received</th>\n",
       "      <th>gender_ordinal</th>\n",
       "      <th>no_show_ordinal</th>\n",
       "    </tr>\n",
       "  </thead>\n",
       "  <tbody>\n",
       "    <tr>\n",
       "      <th>count</th>\n",
       "      <td>110527.000000</td>\n",
       "      <td>110527.000000</td>\n",
       "      <td>110527.000000</td>\n",
       "      <td>110527.000000</td>\n",
       "      <td>110527.000000</td>\n",
       "      <td>110527.000000</td>\n",
       "      <td>110527.000000</td>\n",
       "      <td>110527.000000</td>\n",
       "      <td>110527.000000</td>\n",
       "    </tr>\n",
       "    <tr>\n",
       "      <th>mean</th>\n",
       "      <td>37.088874</td>\n",
       "      <td>0.098266</td>\n",
       "      <td>0.197246</td>\n",
       "      <td>0.071865</td>\n",
       "      <td>0.030400</td>\n",
       "      <td>0.022248</td>\n",
       "      <td>0.321026</td>\n",
       "      <td>0.350023</td>\n",
       "      <td>0.201933</td>\n",
       "    </tr>\n",
       "    <tr>\n",
       "      <th>std</th>\n",
       "      <td>23.110205</td>\n",
       "      <td>0.297675</td>\n",
       "      <td>0.397921</td>\n",
       "      <td>0.258265</td>\n",
       "      <td>0.171686</td>\n",
       "      <td>0.161543</td>\n",
       "      <td>0.466873</td>\n",
       "      <td>0.476979</td>\n",
       "      <td>0.401444</td>\n",
       "    </tr>\n",
       "    <tr>\n",
       "      <th>min</th>\n",
       "      <td>-1.000000</td>\n",
       "      <td>0.000000</td>\n",
       "      <td>0.000000</td>\n",
       "      <td>0.000000</td>\n",
       "      <td>0.000000</td>\n",
       "      <td>0.000000</td>\n",
       "      <td>0.000000</td>\n",
       "      <td>0.000000</td>\n",
       "      <td>0.000000</td>\n",
       "    </tr>\n",
       "    <tr>\n",
       "      <th>25%</th>\n",
       "      <td>18.000000</td>\n",
       "      <td>0.000000</td>\n",
       "      <td>0.000000</td>\n",
       "      <td>0.000000</td>\n",
       "      <td>0.000000</td>\n",
       "      <td>0.000000</td>\n",
       "      <td>0.000000</td>\n",
       "      <td>0.000000</td>\n",
       "      <td>0.000000</td>\n",
       "    </tr>\n",
       "    <tr>\n",
       "      <th>50%</th>\n",
       "      <td>37.000000</td>\n",
       "      <td>0.000000</td>\n",
       "      <td>0.000000</td>\n",
       "      <td>0.000000</td>\n",
       "      <td>0.000000</td>\n",
       "      <td>0.000000</td>\n",
       "      <td>0.000000</td>\n",
       "      <td>0.000000</td>\n",
       "      <td>0.000000</td>\n",
       "    </tr>\n",
       "    <tr>\n",
       "      <th>75%</th>\n",
       "      <td>55.000000</td>\n",
       "      <td>0.000000</td>\n",
       "      <td>0.000000</td>\n",
       "      <td>0.000000</td>\n",
       "      <td>0.000000</td>\n",
       "      <td>0.000000</td>\n",
       "      <td>1.000000</td>\n",
       "      <td>1.000000</td>\n",
       "      <td>0.000000</td>\n",
       "    </tr>\n",
       "    <tr>\n",
       "      <th>max</th>\n",
       "      <td>115.000000</td>\n",
       "      <td>1.000000</td>\n",
       "      <td>1.000000</td>\n",
       "      <td>1.000000</td>\n",
       "      <td>1.000000</td>\n",
       "      <td>4.000000</td>\n",
       "      <td>1.000000</td>\n",
       "      <td>1.000000</td>\n",
       "      <td>1.000000</td>\n",
       "    </tr>\n",
       "  </tbody>\n",
       "</table>\n",
       "</div>"
      ],
      "text/plain": [
       "                 age    scholarship   hipertension       diabetes  \\\n",
       "count  110527.000000  110527.000000  110527.000000  110527.000000   \n",
       "mean       37.088874       0.098266       0.197246       0.071865   \n",
       "std        23.110205       0.297675       0.397921       0.258265   \n",
       "min        -1.000000       0.000000       0.000000       0.000000   \n",
       "25%        18.000000       0.000000       0.000000       0.000000   \n",
       "50%        37.000000       0.000000       0.000000       0.000000   \n",
       "75%        55.000000       0.000000       0.000000       0.000000   \n",
       "max       115.000000       1.000000       1.000000       1.000000   \n",
       "\n",
       "          alcoholism        handcap   sms_received  gender_ordinal  \\\n",
       "count  110527.000000  110527.000000  110527.000000   110527.000000   \n",
       "mean        0.030400       0.022248       0.321026        0.350023   \n",
       "std         0.171686       0.161543       0.466873        0.476979   \n",
       "min         0.000000       0.000000       0.000000        0.000000   \n",
       "25%         0.000000       0.000000       0.000000        0.000000   \n",
       "50%         0.000000       0.000000       0.000000        0.000000   \n",
       "75%         0.000000       0.000000       1.000000        1.000000   \n",
       "max         1.000000       4.000000       1.000000        1.000000   \n",
       "\n",
       "       no_show_ordinal  \n",
       "count    110527.000000  \n",
       "mean          0.201933  \n",
       "std           0.401444  \n",
       "min           0.000000  \n",
       "25%           0.000000  \n",
       "50%           0.000000  \n",
       "75%           0.000000  \n",
       "max           1.000000  "
      ]
     },
     "execution_count": 14,
     "metadata": {},
     "output_type": "execute_result"
    }
   ],
   "source": [
    "df.describe()"
   ]
  },
  {
   "cell_type": "markdown",
   "id": "7bff8eb5",
   "metadata": {},
   "source": [
    "## Functions Definitions"
   ]
  },
  {
   "cell_type": "code",
   "execution_count": 15,
   "id": "54776e97",
   "metadata": {},
   "outputs": [],
   "source": [
    "# defining a function for plotting two histograms \n",
    "def two_hist(f1, f2, f1_label, f2_label, x_label, y_label):\n",
    "    \"\"\"\n",
    "    Plotting two histograms of two dataframe columns on the same figure\n",
    "    \n",
    "    Arg:\n",
    "        f1 - first dataframe column\n",
    "        f2- second dataframe column\n",
    "        f1_label - label of the first histogram\n",
    "        f2_label - label of the second histogram\n",
    "        x_label - x-axis label\n",
    "        y_label - y-axis label\n",
    "        \n",
    "    Returns:\n",
    "        Histogram figure\n",
    "    \"\"\"\n",
    "    \n",
    "    f1.hist(alpha=0.5, label=f1_label);\n",
    "    f2.hist(alpha=0.5, label=f2_label);\n",
    "    plt.xlabel(x_label);\n",
    "    plt.ylabel(y_label);\n",
    "    plt.legend();\n",
    "    \n",
    "    \n",
    "    # defining a function for plotting a bar plot\n",
    "def bar_plot(heights, title, x_label, y_label, labels):\n",
    "    \"\"\"\n",
    "    Plotting two histograms of two dataframe columns on the same figure\n",
    "    \n",
    "    Arg:\n",
    "        heights - bar plot heights\n",
    "        title - figure title\n",
    "        x_label - x-axis label\n",
    "        y_label - y-axis label\n",
    "        labels- xticks labels\n",
    "        \n",
    "    Returns:\n",
    "        Bar figure\n",
    "    \"\"\"\n",
    "    \n",
    "    locations = np.arange(len(heights))\n",
    "    plt.bar(locations, heights)\n",
    "    plt.title(title)\n",
    "    plt.xlabel(x_label)\n",
    "    plt.ylabel(y_label);\n",
    "    plt.xticks(locations,labels)"
   ]
  },
  {
   "cell_type": "markdown",
   "id": "24cc234b",
   "metadata": {},
   "source": [
    "# 3. Explore "
   ]
  },
  {
   "cell_type": "code",
   "execution_count": 16,
   "id": "eeed70d4",
   "metadata": {
    "scrolled": false
   },
   "outputs": [
    {
     "data": {
      "image/png": "[encoded data removed]",
      "text/plain": [
       "<Figure size 720x720 with 12 Axes>"
      ]
     },
     "metadata": {
      "needs_background": "light"
     },
     "output_type": "display_data"
    }
   ],
   "source": [
    "hist = df.hist(figsize=(10,10), xrot=90)\n",
    "plt.tight_layout() # adjust spacing between subplots to minimize the overlaps."
   ]
  },
  {
   "cell_type": "code",
   "execution_count": 17,
   "id": "d39c657a",
   "metadata": {},
   "outputs": [
    {
     "data": {
      "text/plain": [
       "<AxesSubplot:xlabel='age', ylabel='no_show'>"
      ]
     },
     "execution_count": 17,
     "metadata": {},
     "output_type": "execute_result"
    },
    {
     "data": {
      "image/png": "[encoded data removed]",
      "text/plain": [
       "<Figure size 432x288 with 1 Axes>"
      ]
     },
     "metadata": {
      "needs_background": "light"
     },
     "output_type": "display_data"
    }
   ],
   "source": [
    "df.plot(kind=\"scatter\", x=\"age\", y=\"no_show\")"
   ]
  },
  {
   "cell_type": "code",
   "execution_count": 18,
   "id": "12194024",
   "metadata": {},
   "outputs": [],
   "source": [
    "# create masks for the no_show\n",
    "no_show_mask = df.no_show_ordinal == 1\n",
    "show_mask = df.no_show_ordinal == 0"
   ]
  },
  {
   "cell_type": "code",
   "execution_count": 19,
   "id": "8aa5776a",
   "metadata": {},
   "outputs": [
    {
     "data": {
      "image/png": "[encoded data removed]",
      "text/plain": [
       "<Figure size 432x288 with 1 Axes>"
      ]
     },
     "metadata": {
      "needs_background": "light"
     },
     "output_type": "display_data"
    }
   ],
   "source": [
    "f1, f2, f1_label, f2_label, x_label, y_label = (df.age[no_show_mask], df.age[show_mask],\n",
    "                                                \"No-Show\",\"Showed-up\", \"Age\", \"Frequency\")\n",
    "\n",
    "two_hist(f1, f2, f1_label, f2_label, x_label, y_label)"
   ]
  },
  {
   "cell_type": "code",
   "execution_count": 20,
   "id": "486725f6",
   "metadata": {},
   "outputs": [
    {
     "data": {
      "image/png": "[encoded data removed]",
      "text/plain": [
       "<Figure size 432x288 with 1 Axes>"
      ]
     },
     "metadata": {
      "needs_background": "light"
     },
     "output_type": "display_data"
    }
   ],
   "source": [
    "f1, f2, f1_label, f2_label, x_label, y_label= (df.scholarship[no_show_mask], df.scholarship[show_mask],\n",
    "                                               \"No-Show\",\"Showed-up\", \"scholarship\", \"Frequency\")\n",
    "\n",
    "two_hist(f1, f2, f1_label, f2_label, x_label, y_label)"
   ]
  },
  {
   "cell_type": "code",
   "execution_count": 21,
   "id": "c1b5aa2e",
   "metadata": {},
   "outputs": [
    {
     "data": {
      "image/png": "[encoded data removed]",
      "text/plain": [
       "<Figure size 432x288 with 1 Axes>"
      ]
     },
     "metadata": {
      "needs_background": "light"
     },
     "output_type": "display_data"
    }
   ],
   "source": [
    "f1, f2, f1_label, f2_label, x_label, y_label= (df.hipertension[no_show_mask], df.hipertension[show_mask],\n",
    "                                               \"No-Show\",\"Showed-up\", \"Hipertension\", \"Frequency\")\n",
    "\n",
    "two_hist(f1, f2, f1_label, f2_label, x_label, y_label)"
   ]
  },
  {
   "cell_type": "code",
   "execution_count": 22,
   "id": "6073e9db",
   "metadata": {},
   "outputs": [
    {
     "data": {
      "image/png": "[encoded data removed]",
      "text/plain": [
       "<Figure size 432x288 with 1 Axes>"
      ]
     },
     "metadata": {
      "needs_background": "light"
     },
     "output_type": "display_data"
    }
   ],
   "source": [
    "f1, f2, f1_label, f2_label, x_label, y_label= (df.gender_ordinal[no_show_mask], df.gender_ordinal[show_mask],\n",
    "                                               \"No-Show\",\"Showed-up\", \"Gender\", \"Frequency\")\n",
    "\n",
    "two_hist(f1, f2, f1_label, f2_label, x_label, y_label)\n",
    "locations = [0, 1]\n",
    "labels = [\"Female\", \"Male\"]\n",
    "plt.xticks(locations,labels);"
   ]
  },
  {
   "cell_type": "markdown",
   "id": "26036bdc",
   "metadata": {},
   "source": [
    "# 4. Draw Conclusion"
   ]
  },
  {
   "cell_type": "markdown",
   "id": "64c7b60c",
   "metadata": {},
   "source": [
    "### Answering Q1\n",
    "+ **Q1:** Are women more likely to show up than men?"
   ]
  },
  {
   "cell_type": "code",
   "execution_count": 23,
   "id": "64ab0783",
   "metadata": {},
   "outputs": [
    {
     "data": {
      "text/plain": [
       "gender\n",
       "F    0.203146\n",
       "M    0.199679\n",
       "Name: no_show_ordinal, dtype: float64"
      ]
     },
     "execution_count": 23,
     "metadata": {},
     "output_type": "execute_result"
    }
   ],
   "source": [
    "gender_group_c = df.groupby(\"gender\")[\"no_show_ordinal\"].mean()\n",
    "gender_group_c "
   ]
  },
  {
   "cell_type": "code",
   "execution_count": 24,
   "id": "bf9db5d8",
   "metadata": {},
   "outputs": [
    {
     "data": {
      "image/png": "[encoded data removed]",
      "text/plain": [
       "<Figure size 432x288 with 1 Axes>"
      ]
     },
     "metadata": {
      "needs_background": "light"
     },
     "output_type": "display_data"
    }
   ],
   "source": [
    "heights = gender_group_c\n",
    "title = \"Percentage of the No-show by Gender\"\n",
    "x_label, y_label = \"Gender\", \"No-show Percentage\"\n",
    "labels = [\"Female\", \"Male\"]\n",
    "\n",
    "bar_plot(heights, title, x_label, y_label, labels)"
   ]
  },
  {
   "cell_type": "markdown",
   "id": "12650a20",
   "metadata": {},
   "source": [
    "There is a slight difference between the percentage of women and men that do not show up to their scheduled appointments. \n",
    "+ 20.31% of Women do not show up\n",
    "+ 19.97% of Men do not show up"
   ]
  },
  {
   "cell_type": "markdown",
   "id": "7cb36014",
   "metadata": {},
   "source": [
    "### Answering Q2\n",
    "**Q2:** What `Age` group has the highest `No-show` percentage? (e.g. cut 100 years into 4 quarters!)"
   ]
  },
  {
   "cell_type": "code",
   "execution_count": 25,
   "id": "98b3e87a",
   "metadata": {
    "scrolled": false
   },
   "outputs": [
    {
     "data": {
      "text/plain": [
       "count    110527.000000\n",
       "mean         37.088874\n",
       "std          23.110205\n",
       "min          -1.000000\n",
       "25%          18.000000\n",
       "50%          37.000000\n",
       "75%          55.000000\n",
       "max         115.000000\n",
       "Name: age, dtype: float64"
      ]
     },
     "execution_count": 25,
     "metadata": {},
     "output_type": "execute_result"
    }
   ],
   "source": [
    "df.age.describe()"
   ]
  },
  {
   "cell_type": "code",
   "execution_count": 26,
   "id": "8bf5e373",
   "metadata": {
    "scrolled": true
   },
   "outputs": [
    {
     "data": {
      "text/html": [
       "<div>\n",
       "<style scoped>\n",
       "    .dataframe tbody tr th:only-of-type {\n",
       "        vertical-align: middle;\n",
       "    }\n",
       "\n",
       "    .dataframe tbody tr th {\n",
       "        vertical-align: top;\n",
       "    }\n",
       "\n",
       "    .dataframe thead th {\n",
       "        text-align: right;\n",
       "    }\n",
       "</style>\n",
       "<table border=\"1\" class=\"dataframe\">\n",
       "  <thead>\n",
       "    <tr style=\"text-align: right;\">\n",
       "      <th></th>\n",
       "      <th>gender</th>\n",
       "      <th>scheduled_day</th>\n",
       "      <th>appointment_day</th>\n",
       "      <th>age</th>\n",
       "      <th>neighbourhood</th>\n",
       "      <th>scholarship</th>\n",
       "      <th>hipertension</th>\n",
       "      <th>diabetes</th>\n",
       "      <th>alcoholism</th>\n",
       "      <th>handcap</th>\n",
       "      <th>sms_received</th>\n",
       "      <th>no_show</th>\n",
       "      <th>gender_ordinal</th>\n",
       "      <th>no_show_ordinal</th>\n",
       "      <th>age_stages</th>\n",
       "    </tr>\n",
       "  </thead>\n",
       "  <tbody>\n",
       "    <tr>\n",
       "      <th>0</th>\n",
       "      <td>F</td>\n",
       "      <td>2016-04-29 18:38:08+00:00</td>\n",
       "      <td>2016-04-29 00:00:00+00:00</td>\n",
       "      <td>62</td>\n",
       "      <td>JARDIM DA PENHA</td>\n",
       "      <td>0</td>\n",
       "      <td>1</td>\n",
       "      <td>0</td>\n",
       "      <td>0</td>\n",
       "      <td>0</td>\n",
       "      <td>0</td>\n",
       "      <td>No</td>\n",
       "      <td>0</td>\n",
       "      <td>0</td>\n",
       "      <td>Senior</td>\n",
       "    </tr>\n",
       "    <tr>\n",
       "      <th>1</th>\n",
       "      <td>M</td>\n",
       "      <td>2016-04-29 16:08:27+00:00</td>\n",
       "      <td>2016-04-29 00:00:00+00:00</td>\n",
       "      <td>56</td>\n",
       "      <td>JARDIM DA PENHA</td>\n",
       "      <td>0</td>\n",
       "      <td>0</td>\n",
       "      <td>0</td>\n",
       "      <td>0</td>\n",
       "      <td>0</td>\n",
       "      <td>0</td>\n",
       "      <td>No</td>\n",
       "      <td>1</td>\n",
       "      <td>0</td>\n",
       "      <td>Senior</td>\n",
       "    </tr>\n",
       "    <tr>\n",
       "      <th>2</th>\n",
       "      <td>F</td>\n",
       "      <td>2016-04-29 16:19:04+00:00</td>\n",
       "      <td>2016-04-29 00:00:00+00:00</td>\n",
       "      <td>62</td>\n",
       "      <td>MATA DA PRAIA</td>\n",
       "      <td>0</td>\n",
       "      <td>0</td>\n",
       "      <td>0</td>\n",
       "      <td>0</td>\n",
       "      <td>0</td>\n",
       "      <td>0</td>\n",
       "      <td>No</td>\n",
       "      <td>0</td>\n",
       "      <td>0</td>\n",
       "      <td>Senior</td>\n",
       "    </tr>\n",
       "    <tr>\n",
       "      <th>3</th>\n",
       "      <td>F</td>\n",
       "      <td>2016-04-29 17:29:31+00:00</td>\n",
       "      <td>2016-04-29 00:00:00+00:00</td>\n",
       "      <td>8</td>\n",
       "      <td>PONTAL DE CAMBURI</td>\n",
       "      <td>0</td>\n",
       "      <td>0</td>\n",
       "      <td>0</td>\n",
       "      <td>0</td>\n",
       "      <td>0</td>\n",
       "      <td>0</td>\n",
       "      <td>No</td>\n",
       "      <td>0</td>\n",
       "      <td>0</td>\n",
       "      <td>Junior</td>\n",
       "    </tr>\n",
       "    <tr>\n",
       "      <th>4</th>\n",
       "      <td>F</td>\n",
       "      <td>2016-04-29 16:07:23+00:00</td>\n",
       "      <td>2016-04-29 00:00:00+00:00</td>\n",
       "      <td>56</td>\n",
       "      <td>JARDIM DA PENHA</td>\n",
       "      <td>0</td>\n",
       "      <td>1</td>\n",
       "      <td>1</td>\n",
       "      <td>0</td>\n",
       "      <td>0</td>\n",
       "      <td>0</td>\n",
       "      <td>No</td>\n",
       "      <td>0</td>\n",
       "      <td>0</td>\n",
       "      <td>Senior</td>\n",
       "    </tr>\n",
       "  </tbody>\n",
       "</table>\n",
       "</div>"
      ],
      "text/plain": [
       "  gender             scheduled_day           appointment_day  age  \\\n",
       "0      F 2016-04-29 18:38:08+00:00 2016-04-29 00:00:00+00:00   62   \n",
       "1      M 2016-04-29 16:08:27+00:00 2016-04-29 00:00:00+00:00   56   \n",
       "2      F 2016-04-29 16:19:04+00:00 2016-04-29 00:00:00+00:00   62   \n",
       "3      F 2016-04-29 17:29:31+00:00 2016-04-29 00:00:00+00:00    8   \n",
       "4      F 2016-04-29 16:07:23+00:00 2016-04-29 00:00:00+00:00   56   \n",
       "\n",
       "       neighbourhood  scholarship  hipertension  diabetes  alcoholism  \\\n",
       "0    JARDIM DA PENHA            0             1         0           0   \n",
       "1    JARDIM DA PENHA            0             0         0           0   \n",
       "2      MATA DA PRAIA            0             0         0           0   \n",
       "3  PONTAL DE CAMBURI            0             0         0           0   \n",
       "4    JARDIM DA PENHA            0             1         1           0   \n",
       "\n",
       "   handcap  sms_received no_show  gender_ordinal  no_show_ordinal age_stages  \n",
       "0        0             0      No               0                0     Senior  \n",
       "1        0             0      No               1                0     Senior  \n",
       "2        0             0      No               0                0     Senior  \n",
       "3        0             0      No               0                0     Junior  \n",
       "4        0             0      No               0                0     Senior  "
      ]
     },
     "execution_count": 26,
     "metadata": {},
     "output_type": "execute_result"
    }
   ],
   "source": [
    "# Bin edges that will be used to \"cut\" the data into groups\n",
    "bin_edges = [-1, 18, 37, 55, 115]\n",
    "\n",
    "# Labels for the four acidity level groups\n",
    "bin_names = [\"Junior\", \"Adult\", \"Mature\", \"Senior\"]\n",
    "\n",
    "# Creates acidity_levels column\n",
    "df[\"age_stages\"] = pd.cut(df[\"age\"], bins=bin_edges, labels=bin_names)\n",
    "\n",
    "df.head()"
   ]
  },
  {
   "cell_type": "code",
   "execution_count": 27,
   "id": "ed515406",
   "metadata": {},
   "outputs": [
    {
     "data": {
      "text/plain": [
       "age_stages\n",
       "Junior    0.219878\n",
       "Adult     0.235376\n",
       "Mature    0.195310\n",
       "Senior    0.156450\n",
       "Name: no_show_ordinal, dtype: float64"
      ]
     },
     "execution_count": 27,
     "metadata": {},
     "output_type": "execute_result"
    }
   ],
   "source": [
    "age_group = df.groupby(\"age_stages\")[\"no_show_ordinal\"].mean()\n",
    "age_group"
   ]
  },
  {
   "cell_type": "code",
   "execution_count": 28,
   "id": "64bffcf1",
   "metadata": {},
   "outputs": [
    {
     "data": {
      "image/png": "[encoded data removed]",
      "text/plain": [
       "<Figure size 432x288 with 1 Axes>"
      ]
     },
     "metadata": {
      "needs_background": "light"
     },
     "output_type": "display_data"
    }
   ],
   "source": [
    "heights = age_group\n",
    "title = \"Percentage of the No-show by Age-stages\"\n",
    "x_label, y_label = \"Age-stage\", \"No-show Percentage\"\n",
    "labels = heights.index\n",
    "\n",
    "bar_plot(heights, title, x_label, y_label, labels)"
   ]
  },
  {
   "cell_type": "markdown",
   "id": "2cef199c",
   "metadata": {},
   "source": [
    "**Seniors** (> 55 years old) have the lowest no show percentage, which means that People at senior age are more likely to show up to their appointments\n",
    "\n",
    "**Adults** (18-37 years old) have the highest no show percentage"
   ]
  },
  {
   "cell_type": "markdown",
   "id": "a4e3fa8a",
   "metadata": {},
   "source": [
    "#### Age-stages and Gender"
   ]
  },
  {
   "cell_type": "code",
   "execution_count": 29,
   "id": "145df04d",
   "metadata": {},
   "outputs": [
    {
     "data": {
      "text/plain": [
       "gender  age_stages\n",
       "F       Junior        0.221345\n",
       "        Adult         0.235496\n",
       "        Mature        0.196552\n",
       "        Senior        0.160515\n",
       "M       Junior        0.218301\n",
       "        Adult         0.235057\n",
       "        Mature        0.192573\n",
       "        Senior        0.148016\n",
       "Name: no_show_ordinal, dtype: float64"
      ]
     },
     "execution_count": 29,
     "metadata": {},
     "output_type": "execute_result"
    }
   ],
   "source": [
    "gender_age = df.groupby([\"gender\",\"age_stages\"])[\"no_show_ordinal\"].mean()\n",
    "gender_age"
   ]
  },
  {
   "cell_type": "code",
   "execution_count": 30,
   "id": "0257a5fd",
   "metadata": {},
   "outputs": [],
   "source": [
    "women_age = gender_age['F']\n",
    "men_age = gender_age['M']"
   ]
  },
  {
   "cell_type": "code",
   "execution_count": 31,
   "id": "e4fb7924",
   "metadata": {},
   "outputs": [
    {
     "data": {
      "image/png": "[encoded data removed]",
      "text/plain": [
       "<Figure size 432x288 with 1 Axes>"
      ]
     },
     "metadata": {},
     "output_type": "display_data"
    }
   ],
   "source": [
    "sns.set_style('darkgrid')\n",
    "\n",
    "ind = np.arange(len(women_age))  # the x locations for the groups\n",
    "width = 0.35       # the width of the bars\n",
    "\n",
    "# plot bars\n",
    "women_bars = plt.bar(ind, women_age, width, color='tab:orange', alpha=.7, label='Female')\n",
    "men_bars = plt.bar(ind + width, men_age, width, color='tab:blue', alpha=.7, label='Male')\n",
    "\n",
    "# title and labels\n",
    "plt.ylabel('No-show Percentage')\n",
    "plt.xlabel('Age-Stage')\n",
    "plt.title('Percentage of the No-show by Age-Stages for Females and Males')\n",
    "locations = ind + width / 2  # xtick locations\n",
    "labels = women_age.index  # xtick labels\n",
    "plt.xticks(locations, labels)\n",
    "\n",
    "# legend\n",
    "plt.legend()\n",
    "plt.show()\n",
    "\n",
    "sns.set_style('white') # to return to the old figure style with white backgroud \n",
    "# for the rest of the code"
   ]
  },
  {
   "cell_type": "markdown",
   "id": "fd3b7be4",
   "metadata": {},
   "source": [
    "Still the gender does not give us a solid interpretation. \n",
    "However, male `Seniors` (> 55 years old) seem to have a better `No-show` percentage than female `Seniors`, `14.80%` and `16.05%`, respectively."
   ]
  },
  {
   "cell_type": "markdown",
   "id": "57069d53",
   "metadata": {},
   "source": [
    "### Answering Q3\n",
    "**Q3:** Which features have a direct correlation with the `No-show`?\n",
    "+ scholarship\n",
    "+ hipertension \n",
    "+ diabetes\t\n",
    "+ alcoholism\n",
    "+ handcap\t"
   ]
  },
  {
   "cell_type": "markdown",
   "id": "f1fc76d9",
   "metadata": {},
   "source": [
    "**Scholarship** effect on **No-show**"
   ]
  },
  {
   "cell_type": "code",
   "execution_count": 32,
   "id": "63a2d5a5",
   "metadata": {},
   "outputs": [
    {
     "data": {
      "text/plain": [
       "scholarship\n",
       "0    0.198072\n",
       "1    0.237363\n",
       "Name: no_show_ordinal, dtype: float64"
      ]
     },
     "execution_count": 32,
     "metadata": {},
     "output_type": "execute_result"
    }
   ],
   "source": [
    "df.groupby(\"scholarship\")[\"no_show_ordinal\"].mean()"
   ]
  },
  {
   "cell_type": "code",
   "execution_count": 33,
   "id": "bae21e8c",
   "metadata": {},
   "outputs": [
    {
     "data": {
      "image/png": "[encoded data removed]",
      "text/plain": [
       "<Figure size 432x288 with 1 Axes>"
      ]
     },
     "metadata": {},
     "output_type": "display_data"
    }
   ],
   "source": [
    "heights = df.groupby(\"scholarship\")[\"no_show_ordinal\"].mean()\n",
    "title = \"Percentage of the No-show by Scholarship\"\n",
    "x_label, y_label = \"Scholarship\", \"No-show Percentage\"\n",
    "labels = [\"No\", \"Yes\"]\n",
    "\n",
    "bar_plot(heights, title, x_label, y_label, labels)"
   ]
  },
  {
   "cell_type": "markdown",
   "id": "6738f06a",
   "metadata": {},
   "source": [
    "People who are not part of the scholarship more likely to show up.\n",
    "+ `19.8%` of the people who are not part of the scholarship do not show up to their appointments\n",
    "+ `23.74%` of the people who are part of the scholarship do not show up to their appointments"
   ]
  },
  {
   "cell_type": "markdown",
   "id": "1ee8715f",
   "metadata": {},
   "source": [
    "**Hipertension** effect on **No-show**"
   ]
  },
  {
   "cell_type": "code",
   "execution_count": 34,
   "id": "95640e3d",
   "metadata": {},
   "outputs": [
    {
     "data": {
      "text/plain": [
       "hipertension\n",
       "0    0.209037\n",
       "1    0.173020\n",
       "Name: no_show_ordinal, dtype: float64"
      ]
     },
     "execution_count": 34,
     "metadata": {},
     "output_type": "execute_result"
    }
   ],
   "source": [
    "df.groupby(\"hipertension\")[\"no_show_ordinal\"].mean()"
   ]
  },
  {
   "cell_type": "code",
   "execution_count": 35,
   "id": "41ad48aa",
   "metadata": {},
   "outputs": [
    {
     "data": {
      "image/png": "[encoded data removed]",
      "text/plain": [
       "<Figure size 432x288 with 1 Axes>"
      ]
     },
     "metadata": {},
     "output_type": "display_data"
    }
   ],
   "source": [
    "heights = df.groupby(\"hipertension\")[\"no_show_ordinal\"].mean()\n",
    "title = \"Percentage of the No-show by Hipertension\"\n",
    "x_label, y_label = \"Hipertension\", \"No-show Percentage\"\n",
    "labels = [\"No\", \"Yes\"]\n",
    "\n",
    "bar_plot(heights, title, x_label, y_label, labels)"
   ]
  },
  {
   "cell_type": "markdown",
   "id": "bc47a95c",
   "metadata": {},
   "source": [
    "People that have hipertension more likely to show up.\n",
    "+ `17.30%` of the people that have hipertenion, do not show up to their appointments\n",
    "+ `20.90%` of the people that do not have hipertenion, do not show up to their appointments"
   ]
  },
  {
   "cell_type": "markdown",
   "id": "3fa66aad",
   "metadata": {},
   "source": [
    "**Diabetes** effect on **No-show**"
   ]
  },
  {
   "cell_type": "code",
   "execution_count": 36,
   "id": "feff79fc",
   "metadata": {},
   "outputs": [
    {
     "data": {
      "text/plain": [
       "diabetes\n",
       "0    0.203628\n",
       "1    0.180033\n",
       "Name: no_show_ordinal, dtype: float64"
      ]
     },
     "execution_count": 36,
     "metadata": {},
     "output_type": "execute_result"
    }
   ],
   "source": [
    "df.groupby(\"diabetes\")[\"no_show_ordinal\"].mean()"
   ]
  },
  {
   "cell_type": "code",
   "execution_count": 37,
   "id": "185e6108",
   "metadata": {},
   "outputs": [
    {
     "data": {
      "image/png": "[encoded data removed]",
      "text/plain": [
       "<Figure size 432x288 with 1 Axes>"
      ]
     },
     "metadata": {},
     "output_type": "display_data"
    }
   ],
   "source": [
    "heights = df.groupby(\"diabetes\")[\"no_show_ordinal\"].mean()\n",
    "title = \"Percentage of the No-show by Diabetes\"\n",
    "x_label, y_label = \"Diabetes\", \"No-show Percentage\"\n",
    "labels = [\"No\", \"Yes\"]\n",
    "\n",
    "bar_plot(heights, title, x_label, y_label, labels)"
   ]
  },
  {
   "cell_type": "markdown",
   "id": "25b2a684",
   "metadata": {},
   "source": [
    "People that have diabetes more likely to show up.\n",
    "+ `18.00%` of the people that have diabetes, do not show up to their appointments\n",
    "+ `20.36%` of the people that do not have diabetes, do not show up to their appointments"
   ]
  },
  {
   "cell_type": "markdown",
   "id": "0fd24776",
   "metadata": {},
   "source": [
    "Combination of **Diabetes** and **Hipertension** effect on **No-show**"
   ]
  },
  {
   "cell_type": "code",
   "execution_count": 38,
   "id": "8259f610",
   "metadata": {},
   "outputs": [
    {
     "data": {
      "text/plain": [
       "diabetes  hipertension\n",
       "0         0               0.209215\n",
       "          1               0.171792\n",
       "1         0               0.198353\n",
       "          1               0.175917\n",
       "Name: no_show_ordinal, dtype: float64"
      ]
     },
     "execution_count": 38,
     "metadata": {},
     "output_type": "execute_result"
    }
   ],
   "source": [
    "df.groupby([\"diabetes\", \"hipertension\"])[\"no_show_ordinal\"].mean()"
   ]
  },
  {
   "cell_type": "code",
   "execution_count": 39,
   "id": "7021dda6",
   "metadata": {},
   "outputs": [
    {
     "data": {
      "image/png": "[encoded data removed]",
      "text/plain": [
       "<Figure size 432x288 with 1 Axes>"
      ]
     },
     "metadata": {},
     "output_type": "display_data"
    }
   ],
   "source": [
    "heights = df.groupby([\"diabetes\", \"hipertension\"])[\"no_show_ordinal\"].mean()\n",
    "title = \"Percentage of the No-show by Diabetes and Hipertension\"\n",
    "x_label, y_label = \"Diabetes or Hipertension?\", \"No-show Percentage\"\n",
    "labels = [\"None\", \"Hipertension\", \"Diabetes\", \"Both\"]\n",
    "\n",
    "bar_plot(heights, title, x_label, y_label, labels)"
   ]
  },
  {
   "cell_type": "markdown",
   "id": "4b79e9f1",
   "metadata": {},
   "source": [
    "People that have hipertension only and both more likely to show up.\n",
    "+ `17.18%` of the people that have hipertension only , do not show up to their appointments\n",
    "+ `17.95%` of the people that do not have both hipertension and diabetes, do not show up to their appointments"
   ]
  },
  {
   "cell_type": "markdown",
   "id": "e809f093",
   "metadata": {},
   "source": [
    "**Alcoholism** effect on **No-show**"
   ]
  },
  {
   "cell_type": "code",
   "execution_count": 40,
   "id": "32a8a0e2",
   "metadata": {},
   "outputs": [
    {
     "data": {
      "text/plain": [
       "alcoholism\n",
       "0    0.201946\n",
       "1    0.201488\n",
       "Name: no_show_ordinal, dtype: float64"
      ]
     },
     "execution_count": 40,
     "metadata": {},
     "output_type": "execute_result"
    }
   ],
   "source": [
    "df.groupby(\"alcoholism\")[\"no_show_ordinal\"].mean()"
   ]
  },
  {
   "cell_type": "code",
   "execution_count": 41,
   "id": "3beb7b45",
   "metadata": {},
   "outputs": [
    {
     "data": {
      "image/png": "[encoded data removed]",
      "text/plain": [
       "<Figure size 432x288 with 1 Axes>"
      ]
     },
     "metadata": {},
     "output_type": "display_data"
    }
   ],
   "source": [
    "df.alcoholism.value_counts().plot(kind=\"pie\")\n",
    "plt.legend();"
   ]
  },
  {
   "cell_type": "code",
   "execution_count": 42,
   "id": "9dfa2088",
   "metadata": {},
   "outputs": [
    {
     "data": {
      "text/plain": [
       "0    107167\n",
       "1      3360\n",
       "Name: alcoholism, dtype: int64"
      ]
     },
     "execution_count": 42,
     "metadata": {},
     "output_type": "execute_result"
    }
   ],
   "source": [
    "df.alcoholism.value_counts()"
   ]
  },
  {
   "cell_type": "markdown",
   "id": "4a8c53e7",
   "metadata": {},
   "source": [
    "Alcoholism does not have a noticiable effect on the no show "
   ]
  },
  {
   "cell_type": "markdown",
   "id": "2dfc038c",
   "metadata": {},
   "source": [
    "**Handcap** effect on **No-show**"
   ]
  },
  {
   "cell_type": "code",
   "execution_count": 43,
   "id": "8ef7601d",
   "metadata": {},
   "outputs": [
    {
     "data": {
      "text/plain": [
       "handcap\n",
       "0    0.202353\n",
       "1    0.179236\n",
       "2    0.202186\n",
       "3    0.230769\n",
       "4    0.333333\n",
       "Name: no_show_ordinal, dtype: float64"
      ]
     },
     "execution_count": 43,
     "metadata": {},
     "output_type": "execute_result"
    }
   ],
   "source": [
    "df.groupby(\"handcap\")[\"no_show_ordinal\"].mean()"
   ]
  },
  {
   "cell_type": "code",
   "execution_count": 44,
   "id": "d22a7547",
   "metadata": {},
   "outputs": [
    {
     "data": {
      "image/png": "[encoded data removed]",
      "text/plain": [
       "<Figure size 432x288 with 1 Axes>"
      ]
     },
     "metadata": {},
     "output_type": "display_data"
    }
   ],
   "source": [
    "heights = df.groupby(\"handcap\")[\"no_show_ordinal\"].mean()\n",
    "title = \"Percentage of the No-show by Handcap\"\n",
    "x_label, y_label = \"Handcap\", \"No-show Percentage\"\n",
    "labels = heights.index\n",
    "\n",
    "bar_plot(heights, title, x_label, y_label, labels)"
   ]
  },
  {
   "cell_type": "code",
   "execution_count": 45,
   "id": "526f95e0",
   "metadata": {},
   "outputs": [
    {
     "data": {
      "image/png": "[encoded data removed]",
      "text/plain": [
       "<Figure size 432x288 with 1 Axes>"
      ]
     },
     "metadata": {},
     "output_type": "display_data"
    }
   ],
   "source": [
    "f1, f2, f1_label, f2_label, x_label, y_label= (df.handcap[no_show_mask], df.handcap[show_mask],\n",
    "                                               \"No-Show\",\"Showed-up\", \"Handcap\", \"Frequency\")\n",
    "\n",
    "two_hist(f1, f2, f1_label, f2_label, x_label, y_label)"
   ]
  },
  {
   "cell_type": "markdown",
   "id": "3f74f658",
   "metadata": {},
   "source": [
    "Increasing the number of Handcap above one increases the `No-show` percentage.\\\n",
    "But the majority (almost all of them) of people have zero handcap and `20.24` of them do not show up to their appointment.\\\n",
    "So the Handcap feature does not have effect on the No-show"
   ]
  },
  {
   "cell_type": "markdown",
   "id": "b0415d5f",
   "metadata": {},
   "source": [
    "### Answering Q4\n",
    "**Q4:** Out of the group of patients who recieved an sms, what is the percentage of the `No-show`?"
   ]
  },
  {
   "cell_type": "code",
   "execution_count": 46,
   "id": "3a1231bb",
   "metadata": {},
   "outputs": [
    {
     "data": {
      "text/plain": [
       "sms_received\n",
       "0    0.167033\n",
       "1    0.275745\n",
       "Name: no_show_ordinal, dtype: float64"
      ]
     },
     "execution_count": 46,
     "metadata": {},
     "output_type": "execute_result"
    }
   ],
   "source": [
    "df.groupby(\"sms_received\")[\"no_show_ordinal\"].mean()"
   ]
  },
  {
   "cell_type": "code",
   "execution_count": 47,
   "id": "a9a9a19f",
   "metadata": {},
   "outputs": [
    {
     "data": {
      "image/png": "[encoded data removed]",
      "text/plain": [
       "<Figure size 432x288 with 1 Axes>"
      ]
     },
     "metadata": {},
     "output_type": "display_data"
    }
   ],
   "source": [
    "heights = df.groupby(\"sms_received\")[\"no_show_ordinal\"].mean()\n",
    "title = \"Percentage of the No-show by SMS-Received\"\n",
    "x_label, y_label = \"SMS-Received\", \"No-show Percentage\"\n",
    "labels = [\"No\", \"Yes\"]\n",
    "\n",
    "bar_plot(heights, title, x_label, y_label, labels)"
   ]
  },
  {
   "cell_type": "code",
   "execution_count": 48,
   "id": "c1c835ca",
   "metadata": {},
   "outputs": [
    {
     "data": {
      "image/png": "[encoded data removed]",
      "text/plain": [
       "<Figure size 432x288 with 1 Axes>"
      ]
     },
     "metadata": {},
     "output_type": "display_data"
    }
   ],
   "source": [
    "f1, f2, f1_label, f2_label, x_label, y_label= (df.sms_received[no_show_mask], df.sms_received[show_mask],\n",
    "                                               \"No-Show\",\"Showed-up\", \"SMS_Received\", \"Frequency\")\n",
    "\n",
    "two_hist(f1, f2, f1_label, f2_label, x_label, y_label)"
   ]
  },
  {
   "cell_type": "markdown",
   "id": "1fb4a48d",
   "metadata": {},
   "source": [
    "+ `16.70%` of the patients that did not receive an SMS did not show up.\n",
    "+ `27.57%`of the patients that received an SMS did not show up.\\\n",
    "That is odd! It does not make sense. But maybe that is because the majority of people did not receive an SMS"
   ]
  },
  {
   "cell_type": "markdown",
   "id": "c52867b4",
   "metadata": {},
   "source": [
    "### Answering Q5\n",
    "**Q5:** Is the period between the `ScheduledDay` and the `AppointmentDay` affect the `No-show`? Find a number to describe that..."
   ]
  },
  {
   "cell_type": "code",
   "execution_count": 49,
   "id": "0f70e8b9",
   "metadata": {},
   "outputs": [
    {
     "data": {
      "text/html": [
       "<div>\n",
       "<style scoped>\n",
       "    .dataframe tbody tr th:only-of-type {\n",
       "        vertical-align: middle;\n",
       "    }\n",
       "\n",
       "    .dataframe tbody tr th {\n",
       "        vertical-align: top;\n",
       "    }\n",
       "\n",
       "    .dataframe thead th {\n",
       "        text-align: right;\n",
       "    }\n",
       "</style>\n",
       "<table border=\"1\" class=\"dataframe\">\n",
       "  <thead>\n",
       "    <tr style=\"text-align: right;\">\n",
       "      <th></th>\n",
       "      <th>gender</th>\n",
       "      <th>scheduled_day</th>\n",
       "      <th>appointment_day</th>\n",
       "      <th>age</th>\n",
       "      <th>neighbourhood</th>\n",
       "      <th>scholarship</th>\n",
       "      <th>hipertension</th>\n",
       "      <th>diabetes</th>\n",
       "      <th>alcoholism</th>\n",
       "      <th>handcap</th>\n",
       "      <th>sms_received</th>\n",
       "      <th>no_show</th>\n",
       "      <th>gender_ordinal</th>\n",
       "      <th>no_show_ordinal</th>\n",
       "      <th>age_stages</th>\n",
       "      <th>awaiting_period</th>\n",
       "      <th>awaiting_days</th>\n",
       "    </tr>\n",
       "  </thead>\n",
       "  <tbody>\n",
       "    <tr>\n",
       "      <th>0</th>\n",
       "      <td>F</td>\n",
       "      <td>2016-04-29 18:38:08+00:00</td>\n",
       "      <td>2016-04-29 00:00:00+00:00</td>\n",
       "      <td>62</td>\n",
       "      <td>JARDIM DA PENHA</td>\n",
       "      <td>0</td>\n",
       "      <td>1</td>\n",
       "      <td>0</td>\n",
       "      <td>0</td>\n",
       "      <td>0</td>\n",
       "      <td>0</td>\n",
       "      <td>No</td>\n",
       "      <td>0</td>\n",
       "      <td>0</td>\n",
       "      <td>Senior</td>\n",
       "      <td>-1 days +05:21:52</td>\n",
       "      <td>-1</td>\n",
       "    </tr>\n",
       "    <tr>\n",
       "      <th>1</th>\n",
       "      <td>M</td>\n",
       "      <td>2016-04-29 16:08:27+00:00</td>\n",
       "      <td>2016-04-29 00:00:00+00:00</td>\n",
       "      <td>56</td>\n",
       "      <td>JARDIM DA PENHA</td>\n",
       "      <td>0</td>\n",
       "      <td>0</td>\n",
       "      <td>0</td>\n",
       "      <td>0</td>\n",
       "      <td>0</td>\n",
       "      <td>0</td>\n",
       "      <td>No</td>\n",
       "      <td>1</td>\n",
       "      <td>0</td>\n",
       "      <td>Senior</td>\n",
       "      <td>-1 days +07:51:33</td>\n",
       "      <td>-1</td>\n",
       "    </tr>\n",
       "    <tr>\n",
       "      <th>2</th>\n",
       "      <td>F</td>\n",
       "      <td>2016-04-29 16:19:04+00:00</td>\n",
       "      <td>2016-04-29 00:00:00+00:00</td>\n",
       "      <td>62</td>\n",
       "      <td>MATA DA PRAIA</td>\n",
       "      <td>0</td>\n",
       "      <td>0</td>\n",
       "      <td>0</td>\n",
       "      <td>0</td>\n",
       "      <td>0</td>\n",
       "      <td>0</td>\n",
       "      <td>No</td>\n",
       "      <td>0</td>\n",
       "      <td>0</td>\n",
       "      <td>Senior</td>\n",
       "      <td>-1 days +07:40:56</td>\n",
       "      <td>-1</td>\n",
       "    </tr>\n",
       "    <tr>\n",
       "      <th>3</th>\n",
       "      <td>F</td>\n",
       "      <td>2016-04-29 17:29:31+00:00</td>\n",
       "      <td>2016-04-29 00:00:00+00:00</td>\n",
       "      <td>8</td>\n",
       "      <td>PONTAL DE CAMBURI</td>\n",
       "      <td>0</td>\n",
       "      <td>0</td>\n",
       "      <td>0</td>\n",
       "      <td>0</td>\n",
       "      <td>0</td>\n",
       "      <td>0</td>\n",
       "      <td>No</td>\n",
       "      <td>0</td>\n",
       "      <td>0</td>\n",
       "      <td>Junior</td>\n",
       "      <td>-1 days +06:30:29</td>\n",
       "      <td>-1</td>\n",
       "    </tr>\n",
       "    <tr>\n",
       "      <th>4</th>\n",
       "      <td>F</td>\n",
       "      <td>2016-04-29 16:07:23+00:00</td>\n",
       "      <td>2016-04-29 00:00:00+00:00</td>\n",
       "      <td>56</td>\n",
       "      <td>JARDIM DA PENHA</td>\n",
       "      <td>0</td>\n",
       "      <td>1</td>\n",
       "      <td>1</td>\n",
       "      <td>0</td>\n",
       "      <td>0</td>\n",
       "      <td>0</td>\n",
       "      <td>No</td>\n",
       "      <td>0</td>\n",
       "      <td>0</td>\n",
       "      <td>Senior</td>\n",
       "      <td>-1 days +07:52:37</td>\n",
       "      <td>-1</td>\n",
       "    </tr>\n",
       "  </tbody>\n",
       "</table>\n",
       "</div>"
      ],
      "text/plain": [
       "  gender             scheduled_day           appointment_day  age  \\\n",
       "0      F 2016-04-29 18:38:08+00:00 2016-04-29 00:00:00+00:00   62   \n",
       "1      M 2016-04-29 16:08:27+00:00 2016-04-29 00:00:00+00:00   56   \n",
       "2      F 2016-04-29 16:19:04+00:00 2016-04-29 00:00:00+00:00   62   \n",
       "3      F 2016-04-29 17:29:31+00:00 2016-04-29 00:00:00+00:00    8   \n",
       "4      F 2016-04-29 16:07:23+00:00 2016-04-29 00:00:00+00:00   56   \n",
       "\n",
       "       neighbourhood  scholarship  hipertension  diabetes  alcoholism  \\\n",
       "0    JARDIM DA PENHA            0             1         0           0   \n",
       "1    JARDIM DA PENHA            0             0         0           0   \n",
       "2      MATA DA PRAIA            0             0         0           0   \n",
       "3  PONTAL DE CAMBURI            0             0         0           0   \n",
       "4    JARDIM DA PENHA            0             1         1           0   \n",
       "\n",
       "   handcap  sms_received no_show  gender_ordinal  no_show_ordinal age_stages  \\\n",
       "0        0             0      No               0                0     Senior   \n",
       "1        0             0      No               1                0     Senior   \n",
       "2        0             0      No               0                0     Senior   \n",
       "3        0             0      No               0                0     Junior   \n",
       "4        0             0      No               0                0     Senior   \n",
       "\n",
       "    awaiting_period  awaiting_days  \n",
       "0 -1 days +05:21:52             -1  \n",
       "1 -1 days +07:51:33             -1  \n",
       "2 -1 days +07:40:56             -1  \n",
       "3 -1 days +06:30:29             -1  \n",
       "4 -1 days +07:52:37             -1  "
      ]
     },
     "execution_count": 49,
     "metadata": {},
     "output_type": "execute_result"
    }
   ],
   "source": [
    "df[\"awaiting_period\"] = df[\"appointment_day\"] - df[\"scheduled_day\"]\n",
    "# df[\"awaiting_period\"] = df[\"scheduled_day\"] - df[\"appointment_day\"]\n",
    "\n",
    "df[\"awaiting_days\"] = df[\"awaiting_period\"].dt.days\n",
    "df.head()"
   ]
  },
  {
   "cell_type": "code",
   "execution_count": 50,
   "id": "a83f7f79",
   "metadata": {},
   "outputs": [
    {
     "data": {
      "text/plain": [
       "count    110527.000000\n",
       "mean          9.183702\n",
       "std          15.254996\n",
       "min          -7.000000\n",
       "25%          -1.000000\n",
       "50%           3.000000\n",
       "75%          14.000000\n",
       "max         178.000000\n",
       "Name: awaiting_days, dtype: float64"
      ]
     },
     "execution_count": 50,
     "metadata": {},
     "output_type": "execute_result"
    }
   ],
   "source": [
    "df[\"awaiting_days\"].describe()"
   ]
  },
  {
   "cell_type": "code",
   "execution_count": 51,
   "id": "890eaea6",
   "metadata": {},
   "outputs": [
    {
     "data": {
      "text/plain": [
       "<AxesSubplot:>"
      ]
     },
     "execution_count": 51,
     "metadata": {},
     "output_type": "execute_result"
    },
    {
     "data": {
      "image/png": "[encoded data removed]",
      "text/plain": [
       "<Figure size 432x288 with 1 Axes>"
      ]
     },
     "metadata": {},
     "output_type": "display_data"
    }
   ],
   "source": [
    "df[\"awaiting_days\"].hist()"
   ]
  },
  {
   "cell_type": "code",
   "execution_count": 52,
   "id": "71e32362",
   "metadata": {},
   "outputs": [
    {
     "data": {
      "text/html": [
       "<div>\n",
       "<style scoped>\n",
       "    .dataframe tbody tr th:only-of-type {\n",
       "        vertical-align: middle;\n",
       "    }\n",
       "\n",
       "    .dataframe tbody tr th {\n",
       "        vertical-align: top;\n",
       "    }\n",
       "\n",
       "    .dataframe thead th {\n",
       "        text-align: right;\n",
       "    }\n",
       "</style>\n",
       "<table border=\"1\" class=\"dataframe\">\n",
       "  <thead>\n",
       "    <tr style=\"text-align: right;\">\n",
       "      <th></th>\n",
       "      <th>gender</th>\n",
       "      <th>scheduled_day</th>\n",
       "      <th>appointment_day</th>\n",
       "      <th>age</th>\n",
       "      <th>neighbourhood</th>\n",
       "      <th>scholarship</th>\n",
       "      <th>hipertension</th>\n",
       "      <th>diabetes</th>\n",
       "      <th>alcoholism</th>\n",
       "      <th>handcap</th>\n",
       "      <th>sms_received</th>\n",
       "      <th>no_show</th>\n",
       "      <th>gender_ordinal</th>\n",
       "      <th>no_show_ordinal</th>\n",
       "      <th>age_stages</th>\n",
       "      <th>awaiting_period</th>\n",
       "      <th>awaiting_days</th>\n",
       "      <th>awaiting_stages</th>\n",
       "    </tr>\n",
       "  </thead>\n",
       "  <tbody>\n",
       "    <tr>\n",
       "      <th>0</th>\n",
       "      <td>F</td>\n",
       "      <td>2016-04-29 18:38:08+00:00</td>\n",
       "      <td>2016-04-29 00:00:00+00:00</td>\n",
       "      <td>62</td>\n",
       "      <td>JARDIM DA PENHA</td>\n",
       "      <td>0</td>\n",
       "      <td>1</td>\n",
       "      <td>0</td>\n",
       "      <td>0</td>\n",
       "      <td>0</td>\n",
       "      <td>0</td>\n",
       "      <td>No</td>\n",
       "      <td>0</td>\n",
       "      <td>0</td>\n",
       "      <td>Senior</td>\n",
       "      <td>-1 days +05:21:52</td>\n",
       "      <td>-1</td>\n",
       "      <td>Negative one</td>\n",
       "    </tr>\n",
       "    <tr>\n",
       "      <th>1</th>\n",
       "      <td>M</td>\n",
       "      <td>2016-04-29 16:08:27+00:00</td>\n",
       "      <td>2016-04-29 00:00:00+00:00</td>\n",
       "      <td>56</td>\n",
       "      <td>JARDIM DA PENHA</td>\n",
       "      <td>0</td>\n",
       "      <td>0</td>\n",
       "      <td>0</td>\n",
       "      <td>0</td>\n",
       "      <td>0</td>\n",
       "      <td>0</td>\n",
       "      <td>No</td>\n",
       "      <td>1</td>\n",
       "      <td>0</td>\n",
       "      <td>Senior</td>\n",
       "      <td>-1 days +07:51:33</td>\n",
       "      <td>-1</td>\n",
       "      <td>Negative one</td>\n",
       "    </tr>\n",
       "    <tr>\n",
       "      <th>2</th>\n",
       "      <td>F</td>\n",
       "      <td>2016-04-29 16:19:04+00:00</td>\n",
       "      <td>2016-04-29 00:00:00+00:00</td>\n",
       "      <td>62</td>\n",
       "      <td>MATA DA PRAIA</td>\n",
       "      <td>0</td>\n",
       "      <td>0</td>\n",
       "      <td>0</td>\n",
       "      <td>0</td>\n",
       "      <td>0</td>\n",
       "      <td>0</td>\n",
       "      <td>No</td>\n",
       "      <td>0</td>\n",
       "      <td>0</td>\n",
       "      <td>Senior</td>\n",
       "      <td>-1 days +07:40:56</td>\n",
       "      <td>-1</td>\n",
       "      <td>Negative one</td>\n",
       "    </tr>\n",
       "    <tr>\n",
       "      <th>3</th>\n",
       "      <td>F</td>\n",
       "      <td>2016-04-29 17:29:31+00:00</td>\n",
       "      <td>2016-04-29 00:00:00+00:00</td>\n",
       "      <td>8</td>\n",
       "      <td>PONTAL DE CAMBURI</td>\n",
       "      <td>0</td>\n",
       "      <td>0</td>\n",
       "      <td>0</td>\n",
       "      <td>0</td>\n",
       "      <td>0</td>\n",
       "      <td>0</td>\n",
       "      <td>No</td>\n",
       "      <td>0</td>\n",
       "      <td>0</td>\n",
       "      <td>Junior</td>\n",
       "      <td>-1 days +06:30:29</td>\n",
       "      <td>-1</td>\n",
       "      <td>Negative one</td>\n",
       "    </tr>\n",
       "    <tr>\n",
       "      <th>4</th>\n",
       "      <td>F</td>\n",
       "      <td>2016-04-29 16:07:23+00:00</td>\n",
       "      <td>2016-04-29 00:00:00+00:00</td>\n",
       "      <td>56</td>\n",
       "      <td>JARDIM DA PENHA</td>\n",
       "      <td>0</td>\n",
       "      <td>1</td>\n",
       "      <td>1</td>\n",
       "      <td>0</td>\n",
       "      <td>0</td>\n",
       "      <td>0</td>\n",
       "      <td>No</td>\n",
       "      <td>0</td>\n",
       "      <td>0</td>\n",
       "      <td>Senior</td>\n",
       "      <td>-1 days +07:52:37</td>\n",
       "      <td>-1</td>\n",
       "      <td>Negative one</td>\n",
       "    </tr>\n",
       "  </tbody>\n",
       "</table>\n",
       "</div>"
      ],
      "text/plain": [
       "  gender             scheduled_day           appointment_day  age  \\\n",
       "0      F 2016-04-29 18:38:08+00:00 2016-04-29 00:00:00+00:00   62   \n",
       "1      M 2016-04-29 16:08:27+00:00 2016-04-29 00:00:00+00:00   56   \n",
       "2      F 2016-04-29 16:19:04+00:00 2016-04-29 00:00:00+00:00   62   \n",
       "3      F 2016-04-29 17:29:31+00:00 2016-04-29 00:00:00+00:00    8   \n",
       "4      F 2016-04-29 16:07:23+00:00 2016-04-29 00:00:00+00:00   56   \n",
       "\n",
       "       neighbourhood  scholarship  hipertension  diabetes  alcoholism  \\\n",
       "0    JARDIM DA PENHA            0             1         0           0   \n",
       "1    JARDIM DA PENHA            0             0         0           0   \n",
       "2      MATA DA PRAIA            0             0         0           0   \n",
       "3  PONTAL DE CAMBURI            0             0         0           0   \n",
       "4    JARDIM DA PENHA            0             1         1           0   \n",
       "\n",
       "   handcap  sms_received no_show  gender_ordinal  no_show_ordinal age_stages  \\\n",
       "0        0             0      No               0                0     Senior   \n",
       "1        0             0      No               1                0     Senior   \n",
       "2        0             0      No               0                0     Senior   \n",
       "3        0             0      No               0                0     Junior   \n",
       "4        0             0      No               0                0     Senior   \n",
       "\n",
       "    awaiting_period  awaiting_days awaiting_stages  \n",
       "0 -1 days +05:21:52             -1    Negative one  \n",
       "1 -1 days +07:51:33             -1    Negative one  \n",
       "2 -1 days +07:40:56             -1    Negative one  \n",
       "3 -1 days +06:30:29             -1    Negative one  \n",
       "4 -1 days +07:52:37             -1    Negative one  "
      ]
     },
     "execution_count": 52,
     "metadata": {},
     "output_type": "execute_result"
    }
   ],
   "source": [
    "# Bin edges that will be used to \"cut\" the data into groups\n",
    "bin_edges = [np.NINF, -1.0001, -0.00001,  0.9, 7, 14, 30, 178]\n",
    "\n",
    "# Labels for the four acidity level groups\n",
    "bin_names = [\"Negative days\", \"Negative one\", \"Zero days\", \"Less than a week\", \"1-2 weeks\", \"2 weeks - 1 month\", \"More than a Month\"]\n",
    "\n",
    "# Creates acidity_levels column\n",
    "df[\"awaiting_stages\"] = pd.cut(df[\"awaiting_days\"], bins=bin_edges, labels=bin_names)\n",
    "\n",
    "df.head()"
   ]
  },
  {
   "cell_type": "code",
   "execution_count": 53,
   "id": "ae434101",
   "metadata": {},
   "outputs": [
    {
     "data": {
      "text/plain": [
       "awaiting_stages\n",
       "Negative days        1.000000\n",
       "Negative one         0.046469\n",
       "Zero days            0.213505\n",
       "Less than a week     0.250102\n",
       "1-2 weeks            0.312254\n",
       "2 weeks - 1 month    0.325212\n",
       "More than a Month    0.330208\n",
       "Name: no_show_ordinal, dtype: float64"
      ]
     },
     "execution_count": 53,
     "metadata": {},
     "output_type": "execute_result"
    }
   ],
   "source": [
    "df.groupby(\"awaiting_stages\")[\"no_show_ordinal\"].mean()"
   ]
  },
  {
   "cell_type": "code",
   "execution_count": 54,
   "id": "d113393a",
   "metadata": {},
   "outputs": [
    {
     "data": {
      "image/png": "[encoded data removed]",
      "text/plain": [
       "<Figure size 432x288 with 1 Axes>"
      ]
     },
     "metadata": {},
     "output_type": "display_data"
    }
   ],
   "source": [
    "heights = df.groupby(\"awaiting_stages\")[\"no_show_ordinal\"].mean()\n",
    "title = \"Percentage of the No-show by Awaiting-stages\"\n",
    "x_label, y_label = \"Awaiting-stage\", \"No-show Percentage\"\n",
    "labels = heights.index\n",
    "\n",
    "bar_plot(heights, title, x_label, y_label, labels)\n",
    "plt.xticks(rotation=90);"
   ]
  },
  {
   "cell_type": "code",
   "execution_count": 55,
   "id": "85960ef5",
   "metadata": {},
   "outputs": [
    {
     "data": {
      "image/png": "[encoded data removed]",
      "text/plain": [
       "<Figure size 432x288 with 1 Axes>"
      ]
     },
     "metadata": {},
     "output_type": "display_data"
    }
   ],
   "source": [
    "df.awaiting_stages[no_show_mask].value_counts().plot(kind='bar', alpha=0.5, label=\"No-Show\", color='tab:blue');\n",
    "df.awaiting_stages[show_mask].value_counts().plot(kind='bar', alpha=0.5, label=\"Showed-up\", color='tab:orange');\n",
    "plt.legend();"
   ]
  },
  {
   "cell_type": "markdown",
   "id": "409cbcec",
   "metadata": {},
   "source": [
    "Increasing the period between the appointment day and the registration day (scheduled day) increases the no show percentage.\n",
    "\n",
    "However, I do not hava an explanation for the negative values of the awaiting period. Maybe it means that the patient came without an appointment! But if that is true, the No-show for the negative days should be zero."
   ]
  },
  {
   "cell_type": "markdown",
   "id": "a4077556",
   "metadata": {},
   "source": [
    "### Answering Q6\n",
    "**Q6:** Which `Neighbourhood` has the higest `No-show` and which has the lowest?"
   ]
  },
  {
   "cell_type": "code",
   "execution_count": 56,
   "id": "8425ed83",
   "metadata": {},
   "outputs": [
    {
     "data": {
      "text/html": [
       "<div>\n",
       "<style scoped>\n",
       "    .dataframe tbody tr th:only-of-type {\n",
       "        vertical-align: middle;\n",
       "    }\n",
       "\n",
       "    .dataframe tbody tr th {\n",
       "        vertical-align: top;\n",
       "    }\n",
       "\n",
       "    .dataframe thead th {\n",
       "        text-align: right;\n",
       "    }\n",
       "</style>\n",
       "<table border=\"1\" class=\"dataframe\">\n",
       "  <thead>\n",
       "    <tr style=\"text-align: right;\">\n",
       "      <th></th>\n",
       "      <th>count</th>\n",
       "      <th>mean</th>\n",
       "      <th>std</th>\n",
       "      <th>min</th>\n",
       "      <th>25%</th>\n",
       "      <th>50%</th>\n",
       "      <th>75%</th>\n",
       "      <th>max</th>\n",
       "    </tr>\n",
       "    <tr>\n",
       "      <th>neighbourhood</th>\n",
       "      <th></th>\n",
       "      <th></th>\n",
       "      <th></th>\n",
       "      <th></th>\n",
       "      <th></th>\n",
       "      <th></th>\n",
       "      <th></th>\n",
       "      <th></th>\n",
       "    </tr>\n",
       "  </thead>\n",
       "  <tbody>\n",
       "    <tr>\n",
       "      <th>AEROPORTO</th>\n",
       "      <td>8.0</td>\n",
       "      <td>0.125000</td>\n",
       "      <td>0.353553</td>\n",
       "      <td>0.0</td>\n",
       "      <td>0.0</td>\n",
       "      <td>0.0</td>\n",
       "      <td>0.0</td>\n",
       "      <td>1.0</td>\n",
       "    </tr>\n",
       "    <tr>\n",
       "      <th>ANDORINHAS</th>\n",
       "      <td>2262.0</td>\n",
       "      <td>0.230327</td>\n",
       "      <td>0.421135</td>\n",
       "      <td>0.0</td>\n",
       "      <td>0.0</td>\n",
       "      <td>0.0</td>\n",
       "      <td>0.0</td>\n",
       "      <td>1.0</td>\n",
       "    </tr>\n",
       "    <tr>\n",
       "      <th>ANTÔNIO HONÓRIO</th>\n",
       "      <td>271.0</td>\n",
       "      <td>0.184502</td>\n",
       "      <td>0.388611</td>\n",
       "      <td>0.0</td>\n",
       "      <td>0.0</td>\n",
       "      <td>0.0</td>\n",
       "      <td>0.0</td>\n",
       "      <td>1.0</td>\n",
       "    </tr>\n",
       "    <tr>\n",
       "      <th>ARIOVALDO FAVALESSA</th>\n",
       "      <td>282.0</td>\n",
       "      <td>0.219858</td>\n",
       "      <td>0.414887</td>\n",
       "      <td>0.0</td>\n",
       "      <td>0.0</td>\n",
       "      <td>0.0</td>\n",
       "      <td>0.0</td>\n",
       "      <td>1.0</td>\n",
       "    </tr>\n",
       "    <tr>\n",
       "      <th>BARRO VERMELHO</th>\n",
       "      <td>423.0</td>\n",
       "      <td>0.215130</td>\n",
       "      <td>0.411399</td>\n",
       "      <td>0.0</td>\n",
       "      <td>0.0</td>\n",
       "      <td>0.0</td>\n",
       "      <td>0.0</td>\n",
       "      <td>1.0</td>\n",
       "    </tr>\n",
       "    <tr>\n",
       "      <th>...</th>\n",
       "      <td>...</td>\n",
       "      <td>...</td>\n",
       "      <td>...</td>\n",
       "      <td>...</td>\n",
       "      <td>...</td>\n",
       "      <td>...</td>\n",
       "      <td>...</td>\n",
       "      <td>...</td>\n",
       "    </tr>\n",
       "    <tr>\n",
       "      <th>SÃO JOSÉ</th>\n",
       "      <td>1977.0</td>\n",
       "      <td>0.216490</td>\n",
       "      <td>0.411956</td>\n",
       "      <td>0.0</td>\n",
       "      <td>0.0</td>\n",
       "      <td>0.0</td>\n",
       "      <td>0.0</td>\n",
       "      <td>1.0</td>\n",
       "    </tr>\n",
       "    <tr>\n",
       "      <th>SÃO PEDRO</th>\n",
       "      <td>2448.0</td>\n",
       "      <td>0.210376</td>\n",
       "      <td>0.407659</td>\n",
       "      <td>0.0</td>\n",
       "      <td>0.0</td>\n",
       "      <td>0.0</td>\n",
       "      <td>0.0</td>\n",
       "      <td>1.0</td>\n",
       "    </tr>\n",
       "    <tr>\n",
       "      <th>TABUAZEIRO</th>\n",
       "      <td>3132.0</td>\n",
       "      <td>0.182950</td>\n",
       "      <td>0.386687</td>\n",
       "      <td>0.0</td>\n",
       "      <td>0.0</td>\n",
       "      <td>0.0</td>\n",
       "      <td>0.0</td>\n",
       "      <td>1.0</td>\n",
       "    </tr>\n",
       "    <tr>\n",
       "      <th>UNIVERSITÁRIO</th>\n",
       "      <td>152.0</td>\n",
       "      <td>0.210526</td>\n",
       "      <td>0.409030</td>\n",
       "      <td>0.0</td>\n",
       "      <td>0.0</td>\n",
       "      <td>0.0</td>\n",
       "      <td>0.0</td>\n",
       "      <td>1.0</td>\n",
       "    </tr>\n",
       "    <tr>\n",
       "      <th>VILA RUBIM</th>\n",
       "      <td>851.0</td>\n",
       "      <td>0.165687</td>\n",
       "      <td>0.372018</td>\n",
       "      <td>0.0</td>\n",
       "      <td>0.0</td>\n",
       "      <td>0.0</td>\n",
       "      <td>0.0</td>\n",
       "      <td>1.0</td>\n",
       "    </tr>\n",
       "  </tbody>\n",
       "</table>\n",
       "<p>81 rows × 8 columns</p>\n",
       "</div>"
      ],
      "text/plain": [
       "                      count      mean       std  min  25%  50%  75%  max\n",
       "neighbourhood                                                           \n",
       "AEROPORTO               8.0  0.125000  0.353553  0.0  0.0  0.0  0.0  1.0\n",
       "ANDORINHAS           2262.0  0.230327  0.421135  0.0  0.0  0.0  0.0  1.0\n",
       "ANTÔNIO HONÓRIO       271.0  0.184502  0.388611  0.0  0.0  0.0  0.0  1.0\n",
       "ARIOVALDO FAVALESSA   282.0  0.219858  0.414887  0.0  0.0  0.0  0.0  1.0\n",
       "BARRO VERMELHO        423.0  0.215130  0.411399  0.0  0.0  0.0  0.0  1.0\n",
       "...                     ...       ...       ...  ...  ...  ...  ...  ...\n",
       "SÃO JOSÉ             1977.0  0.216490  0.411956  0.0  0.0  0.0  0.0  1.0\n",
       "SÃO PEDRO            2448.0  0.210376  0.407659  0.0  0.0  0.0  0.0  1.0\n",
       "TABUAZEIRO           3132.0  0.182950  0.386687  0.0  0.0  0.0  0.0  1.0\n",
       "UNIVERSITÁRIO         152.0  0.210526  0.409030  0.0  0.0  0.0  0.0  1.0\n",
       "VILA RUBIM            851.0  0.165687  0.372018  0.0  0.0  0.0  0.0  1.0\n",
       "\n",
       "[81 rows x 8 columns]"
      ]
     },
     "execution_count": 56,
     "metadata": {},
     "output_type": "execute_result"
    }
   ],
   "source": [
    "neighbourhood_group = df.groupby(\"neighbourhood\")[\"no_show_ordinal\"]\n",
    "neighbourhood_group.describe()"
   ]
  },
  {
   "cell_type": "code",
   "execution_count": 57,
   "id": "f2f3f43e",
   "metadata": {
    "scrolled": true
   },
   "outputs": [
    {
     "data": {
      "text/plain": [
       "'ILHAS OCEÂNICAS DE TRINDADE'"
      ]
     },
     "execution_count": 57,
     "metadata": {},
     "output_type": "execute_result"
    }
   ],
   "source": [
    "# neighbourhood with the highest no-show\n",
    "neighbourhood_group.mean().idxmax()"
   ]
  },
  {
   "cell_type": "code",
   "execution_count": 58,
   "id": "2ffcc461",
   "metadata": {},
   "outputs": [
    {
     "data": {
      "text/plain": [
       "'PARQUE INDUSTRIAL'"
      ]
     },
     "execution_count": 58,
     "metadata": {},
     "output_type": "execute_result"
    }
   ],
   "source": [
    "# neighbourhood with the lowest no-show\n",
    "neighbourhood_group.mean().idxmin()"
   ]
  },
  {
   "cell_type": "code",
   "execution_count": 59,
   "id": "0eaf4dd6",
   "metadata": {},
   "outputs": [
    {
     "data": {
      "text/plain": [
       "'JARDIM CAMBURI'"
      ]
     },
     "execution_count": 59,
     "metadata": {},
     "output_type": "execute_result"
    }
   ],
   "source": [
    "# the most frequent neighbourhood\n",
    "df.neighbourhood.value_counts().idxmax()"
   ]
  },
  {
   "cell_type": "code",
   "execution_count": 60,
   "id": "ebd9a2d7",
   "metadata": {},
   "outputs": [
    {
     "data": {
      "text/plain": [
       "0.18984061163664637"
      ]
     },
     "execution_count": 60,
     "metadata": {},
     "output_type": "execute_result"
    }
   ],
   "source": [
    "# the no show percentage for the most frequent neighbourhood\n",
    "df.query('neighbourhood == \"JARDIM CAMBURI\"')[\"no_show_ordinal\"].mean()"
   ]
  },
  {
   "cell_type": "code",
   "execution_count": 61,
   "id": "46676672",
   "metadata": {},
   "outputs": [
    {
     "data": {
      "text/plain": [
       "'PARQUE INDUSTRIAL'"
      ]
     },
     "execution_count": 61,
     "metadata": {},
     "output_type": "execute_result"
    }
   ],
   "source": [
    "# the lowest frequent neighbourhood\n",
    "df.neighbourhood.value_counts().idxmin()"
   ]
  },
  {
   "cell_type": "code",
   "execution_count": 62,
   "id": "ba64bef5",
   "metadata": {},
   "outputs": [
    {
     "data": {
      "text/plain": [
       "0.0"
      ]
     },
     "execution_count": 62,
     "metadata": {},
     "output_type": "execute_result"
    }
   ],
   "source": [
    "# the no show percentage for the lowest frequent neighbourhood\n",
    "df.query('neighbourhood == \"PARQUE INDUSTRIAL\"')[\"no_show_ordinal\"].mean()"
   ]
  },
  {
   "cell_type": "code",
   "execution_count": 63,
   "id": "b09f3a25",
   "metadata": {},
   "outputs": [
    {
     "data": {
      "text/plain": [
       "count    81.000000\n",
       "mean      0.205427\n",
       "std       0.097230\n",
       "min       0.000000\n",
       "25%       0.179907\n",
       "50%       0.197588\n",
       "75%       0.217454\n",
       "max       1.000000\n",
       "Name: no_show_ordinal, dtype: float64"
      ]
     },
     "execution_count": 63,
     "metadata": {},
     "output_type": "execute_result"
    }
   ],
   "source": [
    "neighbourhood_group_mean=df.groupby(\"neighbourhood\")[\"no_show_ordinal\"].mean()\n",
    "neighbourhood_group_mean.describe()"
   ]
  },
  {
   "cell_type": "code",
   "execution_count": 64,
   "id": "98e86f88",
   "metadata": {},
   "outputs": [
    {
     "data": {
      "image/png": "[encoded data removed]",
      "text/plain": [
       "<Figure size 432x288 with 1 Axes>"
      ]
     },
     "metadata": {},
     "output_type": "display_data"
    }
   ],
   "source": [
    "neighbourhood_group_mean.where(neighbourhood_group_mean<0.13).dropna().plot(kind=\"bar\",\n",
    "                                                                            title=\"Neighbourhoods with Lowest No-Show\");\n",
    "plt.ylabel(\"No-Show Percentage\");                                                                          "
   ]
  },
  {
   "cell_type": "code",
   "execution_count": 65,
   "id": "edc5fb17",
   "metadata": {},
   "outputs": [
    {
     "data": {
      "image/png": "[encoded data removed]",
      "text/plain": [
       "<Figure size 432x288 with 1 Axes>"
      ]
     },
     "metadata": {},
     "output_type": "display_data"
    }
   ],
   "source": [
    "neighbourhood_group_mean.where(neighbourhood_group_mean>0.25).dropna().plot(kind=\"bar\",\n",
    "                                                                            title=\"Neighbourhoods with Highest No-Show\");\n",
    "plt.ylabel(\"No-Show Percentage\");                                                                        "
   ]
  },
  {
   "cell_type": "markdown",
   "id": "26595fb6",
   "metadata": {},
   "source": [
    "+ The `Neighbourhood` with the highest `No-show` is `ILHAS OCEÂNICAS DE TRINDADE`\n",
    "+ The `Neighbourhood` with the lowest `No-show` is `PARQUE INDUSTRIAL`\n",
    "+ The most frequent `Neighbourhood` is `JARDIM CAMBURI` and has a `No-show` percentage of `18.98%`\n",
    "+ The lowest frequent `Neighbourhood` is `PARQUE INDUSTRIAL` and has a `No-show` percentage of `0%`\n"
   ]
  },
  {
   "cell_type": "markdown",
   "id": "efe46c51",
   "metadata": {},
   "source": [
    "# III. Conclusion \n",
    "\n",
    "## Summary \n",
    "\n",
    "So to answer the main question that the analysis focuses on, What factors are important to predict if a patient will show up for their scheduled appointment?, the features that have a direct correlation with the No-show:\n",
    "\n",
    "1. Age:\\\n",
    "    **Seniors** (> 55 years old) have the lowest no show percentage and **Adults** (18-37 years old) have the highest no show percentage\n",
    "\n",
    "2. Age and Gender:\\\n",
    "    Male **Seniors** (> 55 years old) seem to have a better `No-show` percentage than female **Seniors**, `14.80%` and `16.05%`, respectively.\n",
    "\n",
    "3. Scholarship:\\\n",
    "    People who are not part of the scholarship more likely to show up. Where the `No-show` percentage for the patients without and with scholarship are `19.8%` and `23.74%`, respectively.\n",
    "\n",
    "4. Hipertension:\\\n",
    "    People that have hipertension more likely to show up. Where the `No-show` percentage for the patients with and without Hipertension `17.30%` and `20.90%`, respectively.\n",
    "    \n",
    "5. Diabetes:\\\n",
    "    Negative correlation between Diabetes and the `No-show`. Where the `No-show` percentage for the patients with and without Diabetes `18.00%` and `20.36%`, respectively.\n",
    "\n",
    "6. Diabetes and Hipertension:\\\n",
    "    People that have hipertension only and both Diabetes and Hipertension more likely to show up. `17.18%` of the people that have hipertension only , do not show up to their appointments. `17.95%` of the people that do not have both hipertension and diabetes, do not show up to their appointments.\n",
    "\n",
    "8. Awaiting Period:\\\n",
    "    Increasing the period between the appointment day and the registration day (scheduled day) increases the no show percentage.\n",
    "\n",
    "9. Neighbourhood:\n",
    "    + The `Neighbourhood` with the highest `No-show` is `ILHAS OCEÂNICAS DE TRINDADE`\n",
    "    + The `Neighbourhood` with the lowest `No-show` is `PARQUE INDUSTRIAL`\n",
    "\n",
    "    \n",
    "\n",
    "While the features that do not have a direct/noticible effect of the No-show:\n",
    "1. Gender\\\n",
    "    There is a slight difference between the percentage of women and men that do not show up to their scheduled appointments.\n",
    "\n",
    "2. Alcoholism:\\\n",
    "    The `No-show` percentage for the patients whether they are alcoholics or not equals to `20%`\n",
    "\n",
    "3. Handcap:\\\n",
    "    Increasing the number of Handcap above one increases the `No-show` percentage. But the majority (almost all of them) of people have zero handcap and `20.24` of them do not show up to their appointment. So the Handcap feature does not have effect on the No-show.\n",
    "\n",
    "## Limitations\n",
    "1. SMS_received:\\\n",
    "    There is a positive correlation but it should be a negative correlation.\n",
    "    + `16.70%` of the patients that did not receive an SMS did not show up.\n",
    "    + `27.57%`of the patients that received an SMS did not show up.\\\n",
    "    It does not make sense. But maybe that is because the majority of people did not receive an SMS\n",
    "\n",
    "\n",
    "2. Awaiting Period:\\\n",
    "    Increasing the period between the appointment day and the registration day (scheduled day) increases the no show percentage.\n",
    "\n",
    "    However, I do not hava an explanation for the negative values of the awaiting period. Maybe it means that the patient came without an appointment! But if that is true, the No-show for the negative days should be zero.\n",
    "\n",
    "## Research Suggestions\n",
    "\n",
    "+ Having a column for the severity of patient's case. For example having a scale from 1 - 5. In most of the cases, patients with a sever case will show up to their appointments. \n",
    "+ Having a column for the distance between the patient's address and the hospital/clinic's address. As the distance decreases the `No-show` probably will decrease.  "
   ]
  }
 ],
 "metadata": {
  "kernelspec": {
   "display_name": "Python 3",
   "language": "python",
   "name": "python3"
  },
  "language_info": {
   "codemirror_mode": {
    "name": "ipython",
    "version": 3
   },
   "file_extension": ".py",
   "mimetype": "text/x-python",
   "name": "python",
   "nbconvert_exporter": "python",
   "pygments_lexer": "ipython3",
   "version": "3.8.8"
  }
 },
 "nbformat": 4,
 "nbformat_minor": 5
}
